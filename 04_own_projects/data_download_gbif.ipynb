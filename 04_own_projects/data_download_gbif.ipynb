{
 "cells": [
  {
   "cell_type": "code",
   "execution_count": 1,
   "metadata": {},
   "outputs": [
    {
     "name": "stderr",
     "output_type": "stream",
     "text": [
      "c:\\Users\\teja\\miniforge3\\envs\\msc_remote_sens_2024\\lib\\site-packages\\tqdm\\auto.py:21: TqdmWarning: IProgress not found. Please update jupyter and ipywidgets. See https://ipywidgets.readthedocs.io/en/stable/user_install.html\n",
      "  from .autonotebook import tqdm as notebook_tqdm\n"
     ]
    }
   ],
   "source": [
    "import gbif_dl\n",
    "import os\n",
    "# for jupyter compatibility\n",
    "import nest_asyncio\n",
    "nest_asyncio.apply()\n",
    "import pandas as pd"
   ]
  },
  {
   "cell_type": "code",
   "execution_count": 2,
   "metadata": {},
   "outputs": [],
   "source": [
    "queries = {\n",
    "    \"datasetKey\": [\n",
    "        \"7a3679ef-5582-4aaa-81f0-8c2545cafc81\",  # plantnet\n",
    "        \"50c9509d-22c7-4a22-a47d-8c48425ef4a7\"  # inaturalist\n",
    "    ]\n",
    "}"
   ]
  },
  {
   "cell_type": "code",
   "execution_count": 5,
   "metadata": {},
   "outputs": [],
   "source": [
    "import gbif_dl\n",
    "data_generator = gbif_dl.api.generate_urls(\n",
    "    queries=queries,\n",
    "    label=\"speciesKey\",\n",
    ")"
   ]
  },
  {
   "cell_type": "code",
   "execution_count": 3,
   "metadata": {},
   "outputs": [],
   "source": [
    "data_generator = gbif_dl.api.generate_urls(\n",
    "    queries=queries\n",
    ")"
   ]
  },
  {
   "cell_type": "code",
   "execution_count": null,
   "metadata": {},
   "outputs": [],
   "source": [
    "data_generator = gbif_dl.dwca.generate_urls(dwca_root_path=\"dwcas\", label=\"speciesKey\"\n",
    ")"
   ]
  },
  {
   "cell_type": "code",
   "execution_count": 25,
   "metadata": {},
   "outputs": [],
   "source": [
    "# Set the path to our working directory (where your data is stored)\n",
    "os.makedirs(\"G:/My Drive/teaching/2024_msc_remotesensing_geoinformatics/delete2\", exist_ok=True)\n",
    "working_directory = \"G:/My Drive/teaching/2024_msc_remotesensing_geoinformatics/delete2/\"\n",
    "os.chdir(working_directory)\n"
   ]
  },
  {
   "cell_type": "code",
   "execution_count": 4,
   "metadata": {},
   "outputs": [
    {
     "name": "stderr",
     "output_type": "stream",
     "text": [
      "0 Downloads [00:00, ? Downloads/s]"
     ]
    },
    {
     "name": "stderr",
     "output_type": "stream",
     "text": [
      "6063 Downloads [02:14, 45.07 Downloads/s, stats={'failed': 0, 'skipped': 2, 'success': 6061}]"
     ]
    }
   ],
   "source": [
    "stats = gbif_dl.stores.dl_async.download(data_generator, root=\"my_dataset\")"
   ]
  }
 ],
 "metadata": {
  "kernelspec": {
   "display_name": "Python 3",
   "language": "python",
   "name": "python3"
  },
  "language_info": {
   "codemirror_mode": {
    "name": "ipython",
    "version": 3
   },
   "file_extension": ".py",
   "mimetype": "text/x-python",
   "name": "python",
   "nbconvert_exporter": "python",
   "pygments_lexer": "ipython3",
   "version": "undefined.undefined.undefined"
  }
 },
 "nbformat": 4,
 "nbformat_minor": 2
}
