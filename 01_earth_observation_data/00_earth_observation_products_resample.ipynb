{
 "cells": [
  {
   "cell_type": "markdown",
   "metadata": {},
   "source": [
    "# Resampling of raster data"
   ]
  },
  {
   "cell_type": "markdown",
   "metadata": {},
   "source": [
    "You may also use the original resolution but be aware that your computer may collapse due to insufficent RAM (I recommend 64 GB of RAM to use the original data resolution)"
   ]
  },
  {
   "cell_type": "code",
   "execution_count": 1,
   "metadata": {},
   "outputs": [],
   "source": [
    "import os\n",
    "import os\n",
    "import rioxarray\n",
    "from rasterio.enums import Resampling"
   ]
  },
  {
   "cell_type": "code",
   "execution_count": 2,
   "metadata": {},
   "outputs": [],
   "source": [
    "# Set the path to our working directory (where your data is stored)\n",
    "working_directory = \"G:/My Drive/teaching/2024_msc_remotesensing_geoinformatics/\"\n",
    "os.chdir(working_directory)"
   ]
  },
  {
   "cell_type": "code",
   "execution_count": 3,
   "metadata": {},
   "outputs": [],
   "source": [
    "# Define the source and target directories\n",
    "src_dir = 'data/earth_obseration_products/worldclim/'\n",
    "tgt_dir = 'data/earth_obseration_products/worldclim_res/'\n",
    "\n",
    "# Create the target directory if it doesn't exist\n",
    "os.makedirs(tgt_dir, exist_ok=True)\n",
    "\n",
    "# Loop over all files in the source directory and its subdirectories\n",
    "for dirpath, dirnames, filenames in os.walk(src_dir):\n",
    "    for filename in filenames:\n",
    "        # Check if the file is a raster file\n",
    "        if filename.endswith('.tif'):\n",
    "            # Load the raster file\n",
    "            raster = rioxarray.open_rasterio(os.path.join(dirpath, filename))\n",
    "            \n",
    "            # Resample the raster to 1 degree\n",
    "            raster_resampled = raster.rio.reproject(raster.rio.crs, resolution=(0.2, 0.2), resampling=Resampling.nearest)\n",
    "            \n",
    "            # Define the target file path\n",
    "            relative_path = os.path.relpath(dirpath, src_dir)\n",
    "            tgt_file_path = os.path.join(tgt_dir, relative_path, filename)\n",
    "            \n",
    "            # Create the target directory if it doesn't exist\n",
    "            os.makedirs(os.path.dirname(tgt_file_path), exist_ok=True)\n",
    "            \n",
    "            # Save the resampled raster in the target directory\n",
    "            raster_resampled.rio.to_raster(tgt_file_path)"
   ]
  },
  {
   "cell_type": "code",
   "execution_count": 4,
   "metadata": {},
   "outputs": [],
   "source": [
    "# Define the source and target directories\n",
    "src_dir = 'data/earth_obseration_products/soil/'\n",
    "tgt_dir = 'data/earth_obseration_products/soil_res/'\n",
    "\n",
    "# Create the target directory if it doesn't exist\n",
    "os.makedirs(tgt_dir, exist_ok=True)\n",
    "\n",
    "# Loop over all files in the source directory and its subdirectories\n",
    "for dirpath, dirnames, filenames in os.walk(src_dir):\n",
    "    for filename in filenames:\n",
    "        # Check if the file is a raster file\n",
    "        if filename.endswith('.tif'):\n",
    "            # Load the raster file\n",
    "            raster = rioxarray.open_rasterio(os.path.join(dirpath, filename))\n",
    "            \n",
    "            # Resample the raster to 1 degree\n",
    "            raster_resampled = raster.rio.reproject(raster.rio.crs, resolution=(0.2, 0.2), resampling=Resampling.nearest)\n",
    "            \n",
    "            # Define the target file path\n",
    "            relative_path = os.path.relpath(dirpath, src_dir)\n",
    "            tgt_file_path = os.path.join(tgt_dir, relative_path, filename)\n",
    "            \n",
    "            # Create the target directory if it doesn't exist\n",
    "            os.makedirs(os.path.dirname(tgt_file_path), exist_ok=True)\n",
    "            \n",
    "            # Save the resampled raster in the target directory\n",
    "            raster_resampled.rio.to_raster(tgt_file_path)"
   ]
  },
  {
   "cell_type": "code",
   "execution_count": 5,
   "metadata": {},
   "outputs": [],
   "source": [
    "# Define the source and target directories\n",
    "src_dir = 'data/earth_obseration_products/vodca/'\n",
    "tgt_dir = 'data/earth_obseration_products/vodca_res/'\n",
    "\n",
    "# Create the target directory if it doesn't exist\n",
    "os.makedirs(tgt_dir, exist_ok=True)\n",
    "\n",
    "# Loop over all files in the source directory and its subdirectories\n",
    "for dirpath, dirnames, filenames in os.walk(src_dir):\n",
    "    for filename in filenames:\n",
    "        # Check if the file is a raster file\n",
    "        if filename.endswith('.tif'):\n",
    "            # Load the raster file\n",
    "            raster = rioxarray.open_rasterio(os.path.join(dirpath, filename))\n",
    "            \n",
    "            # Resample the raster to 1 degree\n",
    "            raster_resampled = raster.rio.reproject(raster.rio.crs, resolution=(0.2, 0.2), resampling=Resampling.nearest)\n",
    "            \n",
    "            # Define the target file path\n",
    "            relative_path = os.path.relpath(dirpath, src_dir)\n",
    "            tgt_file_path = os.path.join(tgt_dir, relative_path, filename)\n",
    "            \n",
    "            # Create the target directory if it doesn't exist\n",
    "            os.makedirs(os.path.dirname(tgt_file_path), exist_ok=True)\n",
    "            \n",
    "            # Save the resampled raster in the target directory\n",
    "            raster_resampled.rio.to_raster(tgt_file_path)"
   ]
  },
  {
   "cell_type": "code",
   "execution_count": null,
   "metadata": {},
   "outputs": [],
   "source": [
    "# Define the source and target directories\n",
    "src_dir = 'data/earth_obseration_products/modis/'\n",
    "tgt_dir = 'data/earth_obseration_products/modis_res/'\n",
    "\n",
    "# Create the target directory if it doesn't exist\n",
    "os.makedirs(tgt_dir, exist_ok=True)\n",
    "\n",
    "# Loop over all files in the source directory and its subdirectories\n",
    "for dirpath, dirnames, filenames in os.walk(src_dir):\n",
    "    for filename in filenames:\n",
    "        # Check if the file is a raster file\n",
    "        if filename.endswith('.tif'):\n",
    "            # Load the raster file\n",
    "            raster = rioxarray.open_rasterio(os.path.join(dirpath, filename))\n",
    "            \n",
    "            # Resample the raster to 1 degree\n",
    "            raster_resampled = raster.rio.reproject(raster.rio.crs, resolution=(0.2, 0.2), resampling=Resampling.nearest)\n",
    "            \n",
    "            # Define the target file path\n",
    "            relative_path = os.path.relpath(dirpath, src_dir)\n",
    "            tgt_file_path = os.path.join(tgt_dir, relative_path, filename)\n",
    "            \n",
    "            # Create the target directory if it doesn't exist\n",
    "            os.makedirs(os.path.dirname(tgt_file_path), exist_ok=True)\n",
    "            \n",
    "            # Save the resampled raster in the target directory\n",
    "            raster_resampled.rio.to_raster(tgt_file_path)"
   ]
  },
  {
   "cell_type": "code",
   "execution_count": null,
   "metadata": {},
   "outputs": [],
   "source": []
  }
 ],
 "metadata": {
  "kernelspec": {
   "display_name": "Python 3",
   "language": "python",
   "name": "python3"
  },
  "language_info": {
   "codemirror_mode": {
    "name": "ipython",
    "version": 3
   },
   "file_extension": ".py",
   "mimetype": "text/x-python",
   "name": "python",
   "nbconvert_exporter": "python",
   "pygments_lexer": "ipython3",
   "version": "3.10.13"
  }
 },
 "nbformat": 4,
 "nbformat_minor": 2
}
