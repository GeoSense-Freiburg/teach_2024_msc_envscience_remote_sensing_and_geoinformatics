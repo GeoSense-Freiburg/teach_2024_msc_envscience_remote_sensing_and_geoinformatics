{
 "cells": [
  {
   "cell_type": "code",
   "execution_count": 50,
   "metadata": {},
   "outputs": [],
   "source": [
    "import os\n",
    "import rasterio\n",
    "from rasterio.enums import Resampling\n",
    "from rasterio.shutil import copy\n",
    "\n",
    "def resample_directory(directory, resolution=0.04, compression='LZW'):\n",
    "    # Get all GeoTIFF files in the directory\n",
    "    files = [f for f in os.listdir(directory) if f.endswith('.tif')]\n",
    "\n",
    "    for file in files:\n",
    "        with rasterio.open(os.path.join(directory, file)) as src:\n",
    "            # Calculate the new shape based on the new resolution\n",
    "            new_shape = (int(src.shape[0] * src.res[0] / resolution),\n",
    "                         int(src.shape[1] * src.res[1] / resolution))\n",
    "\n",
    "            # Resample the raster\n",
    "            data = src.read(\n",
    "                out_shape=new_shape,\n",
    "                resampling=Resampling.bilinear\n",
    "            )\n",
    "\n",
    "            # Update the metadata\n",
    "            transform = src.transform * src.transform.scale(\n",
    "                (src.width / data.shape[-1]),\n",
    "                (src.height / data.shape[-2])\n",
    "            )\n",
    "\n",
    "            profile = src.profile\n",
    "            profile.update(\n",
    "                dtype=rasterio.float32,\n",
    "                height=new_shape[0],\n",
    "                width=new_shape[1],\n",
    "                transform=transform,\n",
    "                compress=compression\n",
    "            )\n",
    "\n",
    "            # Save the resampled raster\n",
    "            with rasterio.open(os.path.join(directory, f'resampled_{file}'), 'w', **profile) as dst:\n",
    "                dst.write(data)"
   ]
  },
  {
   "cell_type": "code",
   "execution_count": 51,
   "metadata": {},
   "outputs": [],
   "source": [
    "resample_directory(\"G:/My Drive/teaching/2024_msc_remotesensing_geoinformatics/data/photogrammetric_drone_products/confobi/\")"
   ]
  }
 ],
 "metadata": {
  "kernelspec": {
   "display_name": "Python 3",
   "language": "python",
   "name": "python3"
  },
  "language_info": {
   "codemirror_mode": {
    "name": "ipython",
    "version": 3
   },
   "file_extension": ".py",
   "mimetype": "text/x-python",
   "name": "python",
   "nbconvert_exporter": "python",
   "pygments_lexer": "ipython3",
   "version": "3.10.13"
  }
 },
 "nbformat": 4,
 "nbformat_minor": 2
}
