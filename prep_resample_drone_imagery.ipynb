{
 "cells": [
  {
   "cell_type": "code",
   "execution_count": 6,
   "metadata": {},
   "outputs": [],
   "source": [
    "import os\n",
    "import rasterio\n",
    "from rasterio.enums import Resampling\n",
    "from rasterio.shutil import copy\n",
    "\n",
    "def resample_directory(directory, resolution=0.05, compression='LZW'):\n",
    "    # Get all GeoTIFF files in the directory\n",
    "    files = [f for f in os.listdir(directory) if f.endswith('.tif')]\n",
    "\n",
    "    for file in files:\n",
    "        with rasterio.open(os.path.join(directory, file)) as src:\n",
    "            # Calculate the new shape based on the new resolution\n",
    "            new_shape = (int(src.shape[0] * src.res[0] / resolution),\n",
    "                         int(src.shape[1] * src.res[1] / resolution))\n",
    "\n",
    "            # Resample the raster\n",
    "            data = src.read(\n",
    "                out_shape=new_shape,\n",
    "                resampling=Resampling.bilinear\n",
    "            )\n",
    "\n",
    "            # Update the metadata\n",
    "            transform = src.transform * src.transform.scale(\n",
    "                (src.width / data.shape[-1]),\n",
    "                (src.height / data.shape[-2])\n",
    "            )\n",
    "\n",
    "            profile = src.profile\n",
    "            profile.update(\n",
    "                dtype=rasterio.float32,\n",
    "                height=new_shape[0],\n",
    "                width=new_shape[1],\n",
    "                transform=transform,\n",
    "                compress=compression\n",
    "            )\n",
    "\n",
    "            # Save the resampled raster\n",
    "            with rasterio.open(os.path.join(directory, f'resampled_{file}'), 'w', **profile) as dst:\n",
    "                dst.write(data)"
   ]
  },
  {
   "cell_type": "code",
   "execution_count": 7,
   "metadata": {},
   "outputs": [
    {
     "ename": "ZeroDivisionError",
     "evalue": "division by zero",
     "output_type": "error",
     "traceback": [
      "\u001b[1;31m---------------------------------------------------------------------------\u001b[0m",
      "\u001b[1;31mZeroDivisionError\u001b[0m                         Traceback (most recent call last)",
      "Cell \u001b[1;32mIn[7], line 2\u001b[0m\n\u001b[0;32m      1\u001b[0m \u001b[38;5;66;03m#resample_directory(\"G:/My Drive/teaching/2024_msc_remotesensing_geoinformatics/data/photogrammetric_drone_products/confobi/\")\u001b[39;00m\n\u001b[1;32m----> 2\u001b[0m \u001b[43mresample_directory\u001b[49m\u001b[43m(\u001b[49m\u001b[38;5;124;43m\"\u001b[39;49m\u001b[38;5;124;43mG:/My Drive/teaching/2024_msc_remotesensing_geoinformatics/data/photogrammetric_drone_products/scotland/\u001b[39;49m\u001b[38;5;124;43m\"\u001b[39;49m\u001b[43m)\u001b[49m\n",
      "Cell \u001b[1;32mIn[6], line 24\u001b[0m, in \u001b[0;36mresample_directory\u001b[1;34m(directory, resolution, compression)\u001b[0m\n\u001b[0;32m     17\u001b[0m data \u001b[38;5;241m=\u001b[39m src\u001b[38;5;241m.\u001b[39mread(\n\u001b[0;32m     18\u001b[0m     out_shape\u001b[38;5;241m=\u001b[39mnew_shape,\n\u001b[0;32m     19\u001b[0m     resampling\u001b[38;5;241m=\u001b[39mResampling\u001b[38;5;241m.\u001b[39mbilinear\n\u001b[0;32m     20\u001b[0m )\n\u001b[0;32m     22\u001b[0m \u001b[38;5;66;03m# Update the metadata\u001b[39;00m\n\u001b[0;32m     23\u001b[0m transform \u001b[38;5;241m=\u001b[39m src\u001b[38;5;241m.\u001b[39mtransform \u001b[38;5;241m*\u001b[39m src\u001b[38;5;241m.\u001b[39mtransform\u001b[38;5;241m.\u001b[39mscale(\n\u001b[1;32m---> 24\u001b[0m     (\u001b[43msrc\u001b[49m\u001b[38;5;241;43m.\u001b[39;49m\u001b[43mwidth\u001b[49m\u001b[43m \u001b[49m\u001b[38;5;241;43m/\u001b[39;49m\u001b[43m \u001b[49m\u001b[43mdata\u001b[49m\u001b[38;5;241;43m.\u001b[39;49m\u001b[43mshape\u001b[49m\u001b[43m[\u001b[49m\u001b[38;5;241;43m-\u001b[39;49m\u001b[38;5;241;43m1\u001b[39;49m\u001b[43m]\u001b[49m),\n\u001b[0;32m     25\u001b[0m     (src\u001b[38;5;241m.\u001b[39mheight \u001b[38;5;241m/\u001b[39m data\u001b[38;5;241m.\u001b[39mshape[\u001b[38;5;241m-\u001b[39m\u001b[38;5;241m2\u001b[39m])\n\u001b[0;32m     26\u001b[0m )\n\u001b[0;32m     28\u001b[0m profile \u001b[38;5;241m=\u001b[39m src\u001b[38;5;241m.\u001b[39mprofile\n\u001b[0;32m     29\u001b[0m profile\u001b[38;5;241m.\u001b[39mupdate(\n\u001b[0;32m     30\u001b[0m     dtype\u001b[38;5;241m=\u001b[39mrasterio\u001b[38;5;241m.\u001b[39mfloat32,\n\u001b[0;32m     31\u001b[0m     height\u001b[38;5;241m=\u001b[39mnew_shape[\u001b[38;5;241m0\u001b[39m],\n\u001b[1;32m   (...)\u001b[0m\n\u001b[0;32m     34\u001b[0m     compress\u001b[38;5;241m=\u001b[39mcompression\n\u001b[0;32m     35\u001b[0m )\n",
      "\u001b[1;31mZeroDivisionError\u001b[0m: division by zero"
     ]
    }
   ],
   "source": [
    "#resample_directory(\"G:/My Drive/teaching/2024_msc_remotesensing_geoinformatics/data/photogrammetric_drone_products/confobi/\")\n",
    "resample_directory(\"G:/My Drive/teaching/2024_msc_remotesensing_geoinformatics/data/photogrammetric_drone_products/scotland/\")\n"
   ]
  },
  {
   "cell_type": "code",
   "execution_count": 10,
   "metadata": {},
   "outputs": [],
   "source": [
    "import os\n",
    "import rasterio\n",
    "from rasterio.enums import Resampling\n",
    "\n",
    "def resample_directory(directory, target_resolution=0.10, compression='LZW'):\n",
    "    # Get all GeoTIFF files in the directory\n",
    "    files = [f for f in os.listdir(directory) if f.endswith('.tif')]\n",
    "\n",
    "    for file in files:\n",
    "        with rasterio.open(os.path.join(directory, file)) as src:\n",
    "            # Check if the resolution is finer than the target resolution\n",
    "            if src.res[0] < target_resolution or src.res[1] < target_resolution:\n",
    "                # Calculate the new shape based on the target resolution\n",
    "                new_shape = (int(src.shape[0] * src.res[0] / target_resolution),\n",
    "                             int(src.shape[1] * src.res[1] / target_resolution))\n",
    "\n",
    "                # Resample the raster\n",
    "                data = src.read(\n",
    "                    out_shape=(src.count,) + new_shape,\n",
    "                    resampling=Resampling.bilinear\n",
    "                )\n",
    "\n",
    "                # Update the metadata\n",
    "                transform = src.transform * src.transform.scale(\n",
    "                    (src.width / data.shape[-1]),\n",
    "                    (src.height / data.shape[-2])\n",
    "                )\n",
    "\n",
    "                profile = src.profile\n",
    "                profile.update(\n",
    "                    dtype=rasterio.float32,\n",
    "                    height=new_shape[0],\n",
    "                    width=new_shape[1],\n",
    "                    transform=transform,\n",
    "                    compress=compression\n",
    "                )\n",
    "\n",
    "                # Save the resampled raster\n",
    "                with rasterio.open(os.path.join(directory, f'resample_{file}'), 'w', **profile) as dst:\n",
    "                    dst.write(data)"
   ]
  },
  {
   "cell_type": "code",
   "execution_count": 11,
   "metadata": {},
   "outputs": [
    {
     "ename": "ZeroDivisionError",
     "evalue": "division by zero",
     "output_type": "error",
     "traceback": [
      "\u001b[1;31m---------------------------------------------------------------------------\u001b[0m",
      "\u001b[1;31mZeroDivisionError\u001b[0m                         Traceback (most recent call last)",
      "Cell \u001b[1;32mIn[11], line 1\u001b[0m\n\u001b[1;32m----> 1\u001b[0m \u001b[43mresample_directory\u001b[49m\u001b[43m(\u001b[49m\u001b[38;5;124;43m\"\u001b[39;49m\u001b[38;5;124;43mG:/My Drive/teaching/2024_msc_remotesensing_geoinformatics/data/photogrammetric_drone_products/scotland/\u001b[39;49m\u001b[38;5;124;43m\"\u001b[39;49m\u001b[43m)\u001b[49m\n",
      "Cell \u001b[1;32mIn[10], line 25\u001b[0m, in \u001b[0;36mresample_directory\u001b[1;34m(directory, target_resolution, compression)\u001b[0m\n\u001b[0;32m     18\u001b[0m data \u001b[38;5;241m=\u001b[39m src\u001b[38;5;241m.\u001b[39mread(\n\u001b[0;32m     19\u001b[0m     out_shape\u001b[38;5;241m=\u001b[39m(src\u001b[38;5;241m.\u001b[39mcount,) \u001b[38;5;241m+\u001b[39m new_shape,\n\u001b[0;32m     20\u001b[0m     resampling\u001b[38;5;241m=\u001b[39mResampling\u001b[38;5;241m.\u001b[39mbilinear\n\u001b[0;32m     21\u001b[0m )\n\u001b[0;32m     23\u001b[0m \u001b[38;5;66;03m# Update the metadata\u001b[39;00m\n\u001b[0;32m     24\u001b[0m transform \u001b[38;5;241m=\u001b[39m src\u001b[38;5;241m.\u001b[39mtransform \u001b[38;5;241m*\u001b[39m src\u001b[38;5;241m.\u001b[39mtransform\u001b[38;5;241m.\u001b[39mscale(\n\u001b[1;32m---> 25\u001b[0m     (\u001b[43msrc\u001b[49m\u001b[38;5;241;43m.\u001b[39;49m\u001b[43mwidth\u001b[49m\u001b[43m \u001b[49m\u001b[38;5;241;43m/\u001b[39;49m\u001b[43m \u001b[49m\u001b[43mdata\u001b[49m\u001b[38;5;241;43m.\u001b[39;49m\u001b[43mshape\u001b[49m\u001b[43m[\u001b[49m\u001b[38;5;241;43m-\u001b[39;49m\u001b[38;5;241;43m1\u001b[39;49m\u001b[43m]\u001b[49m),\n\u001b[0;32m     26\u001b[0m     (src\u001b[38;5;241m.\u001b[39mheight \u001b[38;5;241m/\u001b[39m data\u001b[38;5;241m.\u001b[39mshape[\u001b[38;5;241m-\u001b[39m\u001b[38;5;241m2\u001b[39m])\n\u001b[0;32m     27\u001b[0m )\n\u001b[0;32m     29\u001b[0m profile \u001b[38;5;241m=\u001b[39m src\u001b[38;5;241m.\u001b[39mprofile\n\u001b[0;32m     30\u001b[0m profile\u001b[38;5;241m.\u001b[39mupdate(\n\u001b[0;32m     31\u001b[0m     dtype\u001b[38;5;241m=\u001b[39mrasterio\u001b[38;5;241m.\u001b[39mfloat32,\n\u001b[0;32m     32\u001b[0m     height\u001b[38;5;241m=\u001b[39mnew_shape[\u001b[38;5;241m0\u001b[39m],\n\u001b[1;32m   (...)\u001b[0m\n\u001b[0;32m     35\u001b[0m     compress\u001b[38;5;241m=\u001b[39mcompression\n\u001b[0;32m     36\u001b[0m )\n",
      "\u001b[1;31mZeroDivisionError\u001b[0m: division by zero"
     ]
    }
   ],
   "source": [
    "resample_directory(\"G:/My Drive/teaching/2024_msc_remotesensing_geoinformatics/data/photogrammetric_drone_products/scotland/\")"
   ]
  },
  {
   "cell_type": "code",
   "execution_count": 12,
   "metadata": {},
   "outputs": [],
   "source": [
    "import os\n",
    "from osgeo import gdal\n",
    "\n",
    "def process_rasters(folder_path, output_folder):\n",
    "    # Create the output folder if it doesn't exist\n",
    "    if not os.path.exists(output_folder):\n",
    "        os.makedirs(output_folder)\n",
    "\n",
    "    # Loop through each file in the folder\n",
    "    for filename in os.listdir(folder_path):\n",
    "        if filename.endswith(\".tif\"):  # Adjust the file extension if needed\n",
    "            input_path = os.path.join(folder_path, filename)\n",
    "            output_path = os.path.join(output_folder, filename)\n",
    "\n",
    "            # Open the raster dataset\n",
    "            dataset = gdal.Open(input_path)\n",
    "\n",
    "            if dataset is None:\n",
    "                print(f\"Could not open {filename}. Skipping...\")\n",
    "                continue\n",
    "\n",
    "            # Get the number of bands in the raster\n",
    "            num_bands = dataset.RasterCount\n",
    "\n",
    "            if num_bands < 3:\n",
    "                print(f\"{filename} has less than 3 bands. Skipping...\")\n",
    "                continue\n",
    "\n",
    "            # Create a new dataset with only the first 3 bands\n",
    "            driver = gdal.GetDriverByName(\"GTiff\")\n",
    "            new_dataset = driver.Create(output_path, dataset.RasterXSize, dataset.RasterYSize, 3, gdal.GDT_Float32, options=[\"COMPRESS=LZW\"])\n",
    "\n",
    "            # Loop through the first 3 bands and copy them to the new dataset\n",
    "            for i in range(3):\n",
    "                band = dataset.GetRasterBand(i + 1)  # Bands are 1-indexed\n",
    "                new_band = new_dataset.GetRasterBand(i + 1)\n",
    "                new_band.WriteArray(band.ReadAsArray())\n",
    "\n",
    "            # Close datasets\n",
    "            del dataset\n",
    "            del new_dataset\n",
    "\n",
    "            print(f\"{filename} processed and saved.\")\n",
    "\n"
   ]
  },
  {
   "cell_type": "code",
   "execution_count": null,
   "metadata": {},
   "outputs": [],
   "source": [
    "# Example usage\n",
    "folder_path = \"input_folder\"\n",
    "output_folder = \"output_folder\"\n",
    "process_rasters(folder_path, output_folder)"
   ]
  }
 ],
 "metadata": {
  "kernelspec": {
   "display_name": "Python 3",
   "language": "python",
   "name": "python3"
  },
  "language_info": {
   "codemirror_mode": {
    "name": "ipython",
    "version": 3
   },
   "file_extension": ".py",
   "mimetype": "text/x-python",
   "name": "python",
   "nbconvert_exporter": "python",
   "pygments_lexer": "ipython3",
   "version": "3.10.13"
  }
 },
 "nbformat": 4,
 "nbformat_minor": 2
}
