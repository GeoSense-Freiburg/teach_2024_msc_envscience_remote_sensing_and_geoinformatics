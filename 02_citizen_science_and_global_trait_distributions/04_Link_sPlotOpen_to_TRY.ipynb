{
 "cells": [
  {
   "cell_type": "markdown",
   "id": "638df9a2",
   "metadata": {},
   "source": [
    "# sPlotOpen Preprocessing"
   ]
  },
  {
   "cell_type": "markdown",
   "id": "d15d079d",
   "metadata": {},
   "source": [
    "sPlotOpen (Sabatini et al, 2021) is an open-access and environmentally and spatially balanced subset of the global sPlot vegetation plots data set v2.1 (Bruelheide et al, 2019).\n",
    "\n",
    "This section covers:\n",
    "\n",
    "- Link plot coordinates with community wighted means (cwm)\n",
    "- Visualize plot density"
   ]
  },
  {
   "cell_type": "markdown",
   "id": "48c904d7",
   "metadata": {},
   "source": [
    "\n",
    "## Assignments\n",
    "..."
   ]
  },
  {
   "cell_type": "markdown",
   "id": "e8581c38",
   "metadata": {},
   "source": [
    "## Download"
   ]
  },
  {
   "cell_type": "markdown",
   "id": "72f1187e",
   "metadata": {},
   "source": [
    "sPlotOpen Data is available at the *iDiv Data Repository*. For this study we used version 52.\n",
    "\n",
    "https://idata.idiv.de/ddm/Data/ShowData/3474\n",
    "\n"
   ]
  },
  {
   "cell_type": "markdown",
   "id": "18e4aba2",
   "metadata": {},
   "source": [
    "## Packages"
   ]
  },
  {
   "cell_type": "code",
   "execution_count": 61,
   "id": "73975506",
   "metadata": {},
   "outputs": [],
   "source": [
    "import pandas as pd\n",
    "import numpy as np\n",
    "import os\n",
    "import matplotlib.pyplot as plt\n",
    "import seaborn as sns\n",
    "from matplotlib.colors import LogNorm, Normalize\n",
    "import cartopy.crs as ccrs\n",
    "import cartopy as cart\n",
    "from matplotlib.colors import BoundaryNorm\n",
    "from matplotlib.ticker import MaxNLocator\n",
    "from mpl_toolkits.axes_grid1 import make_axes_locatable"
   ]
  },
  {
   "cell_type": "code",
   "execution_count": 62,
   "id": "70a15a11",
   "metadata": {},
   "outputs": [],
   "source": [
    "# Set the path to our working directory (where your data is stored)\n",
    "working_directory = \"G:/My Drive/teaching/2024_msc_remotesensing_geoinformatics/\"\n",
    "os.chdir(working_directory)"
   ]
  },
  {
   "cell_type": "markdown",
   "id": "b4e70409",
   "metadata": {},
   "source": [
    "## Link plot coordinates to cmw data"
   ]
  },
  {
   "cell_type": "markdown",
   "id": "5557c6b1",
   "metadata": {},
   "source": [
    "The data is stored in various tab-separated files:\n",
    "\n",
    "- **sPlotOpen_header(2).txt** : contains information on each plot, such as coordinates, date, biome, country, etc.\n",
    "\n",
    "\n",
    "- **sPlotOpen_DT(1).txt** : contains information per plot and species with abundance and relative cover\n",
    "\n",
    "\n",
    "- **sPlotOpen_CWM_CWV(1).txt** : contains information on trait community weighted means and variances for each plot and 18 traits (ln-transformed)\n"
   ]
  },
  {
   "cell_type": "code",
   "execution_count": 63,
   "id": "f78f0c93",
   "metadata": {},
   "outputs": [],
   "source": [
    "# load the community weighted means\n",
    "\n",
    "cwm = pd.read_csv(\"data/sPlotOpen_original_3474_76_Dataset/sPlotOpen_CWM_CWV.txt\", sep= \"\\t\")"
   ]
  },
  {
   "cell_type": "code",
   "execution_count": 64,
   "id": "5846917d",
   "metadata": {},
   "outputs": [
    {
     "name": "stderr",
     "output_type": "stream",
     "text": [
      "C:\\Users\\teja\\AppData\\Local\\Temp\\ipykernel_24540\\1782977492.py:1: DtypeWarning: Columns (16) have mixed types. Specify dtype option on import or set low_memory=False.\n",
      "  plots = pd.read_csv(\"data/sPlotOpen_original_3474_76_Dataset/sPlotOpen_header.txt\", sep= \"\\t\")\n"
     ]
    }
   ],
   "source": [
    "plots = pd.read_csv(\"data/sPlotOpen_original_3474_76_Dataset/sPlotOpen_header.txt\", sep= \"\\t\")"
   ]
  },
  {
   "cell_type": "code",
   "execution_count": 65,
   "id": "edaf606d",
   "metadata": {},
   "outputs": [],
   "source": [
    "sPlot = pd.merge(plots, cwm, on='PlotObservationID', how='inner')"
   ]
  },
  {
   "cell_type": "code",
   "execution_count": 66,
   "id": "20d2145a",
   "metadata": {},
   "outputs": [
    {
     "data": {
      "text/html": [
       "<div>\n",
       "<style scoped>\n",
       "    .dataframe tbody tr th:only-of-type {\n",
       "        vertical-align: middle;\n",
       "    }\n",
       "\n",
       "    .dataframe tbody tr th {\n",
       "        vertical-align: top;\n",
       "    }\n",
       "\n",
       "    .dataframe thead th {\n",
       "        text-align: right;\n",
       "    }\n",
       "</style>\n",
       "<table border=\"1\" class=\"dataframe\">\n",
       "  <thead>\n",
       "    <tr style=\"text-align: right;\">\n",
       "      <th></th>\n",
       "      <th>PlotObservationID</th>\n",
       "      <th>GIVD_ID</th>\n",
       "      <th>Dataset</th>\n",
       "      <th>Continent</th>\n",
       "      <th>Country</th>\n",
       "      <th>Biome</th>\n",
       "      <th>Date_of_recording</th>\n",
       "      <th>Latitude</th>\n",
       "      <th>Longitude</th>\n",
       "      <th>Location_uncertainty</th>\n",
       "      <th>...</th>\n",
       "      <th>Seed_length_CWV</th>\n",
       "      <th>LDMC_CWV</th>\n",
       "      <th>LeafNperArea_CWV</th>\n",
       "      <th>LeafNPratio_CWV</th>\n",
       "      <th>Leaf_delta_15N_CWV</th>\n",
       "      <th>Seed_num_rep_unit_CWV</th>\n",
       "      <th>Leaffreshmass_CWV</th>\n",
       "      <th>Stem_cond_dens_CWV</th>\n",
       "      <th>Disp_unit_leng_CWV</th>\n",
       "      <th>Wood_vessel_length_CWV</th>\n",
       "    </tr>\n",
       "  </thead>\n",
       "  <tbody>\n",
       "    <tr>\n",
       "      <th>0</th>\n",
       "      <td>16</td>\n",
       "      <td>NA-US-014</td>\n",
       "      <td>Aava</td>\n",
       "      <td>North America</td>\n",
       "      <td>United States</td>\n",
       "      <td>Boreal zone</td>\n",
       "      <td>1980-01-01</td>\n",
       "      <td>62.42</td>\n",
       "      <td>-154.18</td>\n",
       "      <td>1000.0</td>\n",
       "      <td>...</td>\n",
       "      <td>NaN</td>\n",
       "      <td>NaN</td>\n",
       "      <td>NaN</td>\n",
       "      <td>NaN</td>\n",
       "      <td>NaN</td>\n",
       "      <td>NaN</td>\n",
       "      <td>NaN</td>\n",
       "      <td>NaN</td>\n",
       "      <td>NaN</td>\n",
       "      <td>NaN</td>\n",
       "    </tr>\n",
       "    <tr>\n",
       "      <th>1</th>\n",
       "      <td>17</td>\n",
       "      <td>NA-US-014</td>\n",
       "      <td>Aava</td>\n",
       "      <td>North America</td>\n",
       "      <td>United States</td>\n",
       "      <td>Boreal zone</td>\n",
       "      <td>1980-01-01</td>\n",
       "      <td>62.42</td>\n",
       "      <td>-154.18</td>\n",
       "      <td>1000.0</td>\n",
       "      <td>...</td>\n",
       "      <td>NaN</td>\n",
       "      <td>NaN</td>\n",
       "      <td>NaN</td>\n",
       "      <td>NaN</td>\n",
       "      <td>NaN</td>\n",
       "      <td>NaN</td>\n",
       "      <td>NaN</td>\n",
       "      <td>NaN</td>\n",
       "      <td>NaN</td>\n",
       "      <td>NaN</td>\n",
       "    </tr>\n",
       "    <tr>\n",
       "      <th>2</th>\n",
       "      <td>18</td>\n",
       "      <td>NA-US-014</td>\n",
       "      <td>Aava</td>\n",
       "      <td>North America</td>\n",
       "      <td>United States</td>\n",
       "      <td>Boreal zone</td>\n",
       "      <td>1980-01-01</td>\n",
       "      <td>62.42</td>\n",
       "      <td>-154.18</td>\n",
       "      <td>1000.0</td>\n",
       "      <td>...</td>\n",
       "      <td>NaN</td>\n",
       "      <td>NaN</td>\n",
       "      <td>NaN</td>\n",
       "      <td>NaN</td>\n",
       "      <td>NaN</td>\n",
       "      <td>NaN</td>\n",
       "      <td>NaN</td>\n",
       "      <td>NaN</td>\n",
       "      <td>NaN</td>\n",
       "      <td>NaN</td>\n",
       "    </tr>\n",
       "    <tr>\n",
       "      <th>3</th>\n",
       "      <td>20</td>\n",
       "      <td>NA-US-014</td>\n",
       "      <td>Aava</td>\n",
       "      <td>North America</td>\n",
       "      <td>United States</td>\n",
       "      <td>Boreal zone</td>\n",
       "      <td>1980-01-01</td>\n",
       "      <td>62.42</td>\n",
       "      <td>-154.18</td>\n",
       "      <td>1000.0</td>\n",
       "      <td>...</td>\n",
       "      <td>NaN</td>\n",
       "      <td>NaN</td>\n",
       "      <td>NaN</td>\n",
       "      <td>NaN</td>\n",
       "      <td>NaN</td>\n",
       "      <td>NaN</td>\n",
       "      <td>NaN</td>\n",
       "      <td>NaN</td>\n",
       "      <td>NaN</td>\n",
       "      <td>NaN</td>\n",
       "    </tr>\n",
       "    <tr>\n",
       "      <th>4</th>\n",
       "      <td>22</td>\n",
       "      <td>NA-US-014</td>\n",
       "      <td>Aava</td>\n",
       "      <td>North America</td>\n",
       "      <td>United States</td>\n",
       "      <td>Boreal zone</td>\n",
       "      <td>1980-01-01</td>\n",
       "      <td>62.42</td>\n",
       "      <td>-154.18</td>\n",
       "      <td>1000.0</td>\n",
       "      <td>...</td>\n",
       "      <td>0.011436</td>\n",
       "      <td>0.041385</td>\n",
       "      <td>0.022313</td>\n",
       "      <td>0.017075</td>\n",
       "      <td>0.186384</td>\n",
       "      <td>1.315851</td>\n",
       "      <td>0.306499</td>\n",
       "      <td>0.163156</td>\n",
       "      <td>0.052239</td>\n",
       "      <td>0.002832</td>\n",
       "    </tr>\n",
       "  </tbody>\n",
       "</table>\n",
       "<p>5 rows × 86 columns</p>\n",
       "</div>"
      ],
      "text/plain": [
       "   PlotObservationID    GIVD_ID Dataset      Continent        Country  \\\n",
       "0                 16  NA-US-014    Aava  North America  United States   \n",
       "1                 17  NA-US-014    Aava  North America  United States   \n",
       "2                 18  NA-US-014    Aava  North America  United States   \n",
       "3                 20  NA-US-014    Aava  North America  United States   \n",
       "4                 22  NA-US-014    Aava  North America  United States   \n",
       "\n",
       "         Biome Date_of_recording  Latitude  Longitude  Location_uncertainty  \\\n",
       "0  Boreal zone        1980-01-01     62.42    -154.18                1000.0   \n",
       "1  Boreal zone        1980-01-01     62.42    -154.18                1000.0   \n",
       "2  Boreal zone        1980-01-01     62.42    -154.18                1000.0   \n",
       "3  Boreal zone        1980-01-01     62.42    -154.18                1000.0   \n",
       "4  Boreal zone        1980-01-01     62.42    -154.18                1000.0   \n",
       "\n",
       "   ...  Seed_length_CWV  LDMC_CWV  LeafNperArea_CWV  LeafNPratio_CWV  \\\n",
       "0  ...              NaN       NaN               NaN              NaN   \n",
       "1  ...              NaN       NaN               NaN              NaN   \n",
       "2  ...              NaN       NaN               NaN              NaN   \n",
       "3  ...              NaN       NaN               NaN              NaN   \n",
       "4  ...         0.011436  0.041385          0.022313         0.017075   \n",
       "\n",
       "   Leaf_delta_15N_CWV Seed_num_rep_unit_CWV Leaffreshmass_CWV  \\\n",
       "0                 NaN                   NaN               NaN   \n",
       "1                 NaN                   NaN               NaN   \n",
       "2                 NaN                   NaN               NaN   \n",
       "3                 NaN                   NaN               NaN   \n",
       "4            0.186384              1.315851          0.306499   \n",
       "\n",
       "  Stem_cond_dens_CWV Disp_unit_leng_CWV Wood_vessel_length_CWV  \n",
       "0                NaN                NaN                    NaN  \n",
       "1                NaN                NaN                    NaN  \n",
       "2                NaN                NaN                    NaN  \n",
       "3                NaN                NaN                    NaN  \n",
       "4           0.163156           0.052239               0.002832  \n",
       "\n",
       "[5 rows x 86 columns]"
      ]
     },
     "execution_count": 66,
     "metadata": {},
     "output_type": "execute_result"
    }
   ],
   "source": [
    "sPlot.head()"
   ]
  },
  {
   "cell_type": "code",
   "execution_count": 67,
   "id": "b6bba8d4",
   "metadata": {},
   "outputs": [
    {
     "data": {
      "text/plain": [
       "Index(['PlotObservationID', 'GIVD_ID', 'Dataset', 'Continent', 'Country',\n",
       "       'Biome', 'Date_of_recording', 'Latitude', 'Longitude',\n",
       "       'Location_uncertainty', 'Releve_area', 'Plant_recorded', 'Elevation',\n",
       "       'Aspect', 'Slope', 'is_forest', 'ESY', 'Naturalness', 'Forest',\n",
       "       'Shrubland', 'Grassland', 'Wetland', 'Sparse_vegetation', 'Cover_total',\n",
       "       'Cover_tree_layer', 'Cover_shrub_layer', 'Cover_herb_layer',\n",
       "       'Cover_moss_layer', 'Cover_lichen_layer', 'Cover_algae_layer',\n",
       "       'Cover_litter_layer', 'Cover_bare_rocks', 'Cover_cryptogams',\n",
       "       'Cover_bare_soil', 'Height_trees_highest', 'Height_trees_lowest',\n",
       "       'Height_shrubs_highest', 'Height_shrubs_lowest', 'Height_herbs_average',\n",
       "       'Height_herbs_lowest', 'Height_herbs_highest', 'SoilClim_PC1',\n",
       "       'SoilClim_PC2', 'Resample_1', 'Resample_2', 'Resample_3',\n",
       "       'Resample_1_consensus', 'TraitCoverage_cover', 'Species_richness',\n",
       "       'TraitCoverage_pa', 'LeafArea_CWM', 'StemDens_CWM', 'SLA_CWM',\n",
       "       'LeafC_perdrymass_CWM', 'LeafN_CWM', 'LeafP_CWM', 'PlantHeight_CWM',\n",
       "       'SeedMass_CWM', 'Seed_length_CWM', 'LDMC_CWM', 'LeafNperArea_CWM',\n",
       "       'LeafNPratio_CWM', 'Leaf_delta_15N_CWM', 'Seed_num_rep_unit_CWM',\n",
       "       'Leaffreshmass_CWM', 'Stem_cond_dens_CWM', 'Disp_unit_leng_CWM',\n",
       "       'Wood_vessel_length_CWM', 'LeafArea_CWV', 'StemDens_CWV', 'SLA_CWV',\n",
       "       'LeafC_perdrymass_CWV', 'LeafN_CWV', 'LeafP_CWV', 'PlantHeight_CWV',\n",
       "       'SeedMass_CWV', 'Seed_length_CWV', 'LDMC_CWV', 'LeafNperArea_CWV',\n",
       "       'LeafNPratio_CWV', 'Leaf_delta_15N_CWV', 'Seed_num_rep_unit_CWV',\n",
       "       'Leaffreshmass_CWV', 'Stem_cond_dens_CWV', 'Disp_unit_leng_CWV',\n",
       "       'Wood_vessel_length_CWV'],\n",
       "      dtype='object')"
      ]
     },
     "execution_count": 67,
     "metadata": {},
     "output_type": "execute_result"
    }
   ],
   "source": [
    "sPlot.columns"
   ]
  },
  {
   "cell_type": "code",
   "execution_count": 68,
   "id": "735e441a",
   "metadata": {},
   "outputs": [
    {
     "data": {
      "text/plain": [
       "Index(['PlotObservationID', 'GIVD_ID', 'Dataset', 'Continent', 'Country',\n",
       "       'Biome', 'Date_of_recording', 'Latitude', 'Longitude',\n",
       "       'Location_uncertainty', 'Releve_area', 'Plant_recorded', 'Elevation',\n",
       "       'Aspect', 'Slope', 'is_forest', 'ESY', 'Naturalness', 'Forest',\n",
       "       'Shrubland', 'Grassland', 'Wetland', 'Sparse_vegetation', 'Cover_total',\n",
       "       'Cover_tree_layer', 'Cover_shrub_layer', 'Cover_herb_layer',\n",
       "       'Cover_moss_layer', 'Cover_lichen_layer', 'Cover_algae_layer',\n",
       "       'Cover_litter_layer', 'Cover_bare_rocks', 'Cover_cryptogams',\n",
       "       'Cover_bare_soil', 'Height_trees_highest', 'Height_trees_lowest',\n",
       "       'Height_shrubs_highest', 'Height_shrubs_lowest', 'Height_herbs_average',\n",
       "       'Height_herbs_lowest', 'Height_herbs_highest', 'SoilClim_PC1',\n",
       "       'SoilClim_PC2', 'Resample_1', 'Resample_2', 'Resample_3',\n",
       "       'Resample_1_consensus', 'TraitCoverage_cover', 'Species_richness',\n",
       "       'TraitCoverage_pa', 'LeafArea_CWM', 'StemDens_CWM', 'SLA_CWM',\n",
       "       'LeafC_perdrymass_CWM', 'LeafN_CWM', 'LeafP_CWM', 'PlantHeight_CWM',\n",
       "       'SeedMass_CWM', 'Seed_length_CWM', 'LDMC_CWM', 'LeafNperArea_CWM',\n",
       "       'LeafNPratio_CWM', 'Leaf_delta_15N_CWM', 'Seed_num_rep_unit_CWM',\n",
       "       'Leaffreshmass_CWM', 'Stem_cond_dens_CWM', 'Disp_unit_leng_CWM',\n",
       "       'Wood_vessel_length_CWM'],\n",
       "      dtype='object')"
      ]
     },
     "execution_count": 68,
     "metadata": {},
     "output_type": "execute_result"
    }
   ],
   "source": [
    "# remove columns that include CWV in the name (not needed for the moment)\n",
    "sPlot = sPlot[sPlot.columns.drop(list(sPlot.filter(regex='CWV')))]\n",
    "sPlot.columns"
   ]
  },
  {
   "cell_type": "markdown",
   "id": "9806650b",
   "metadata": {},
   "source": [
    "### Change columns name"
   ]
  },
  {
   "cell_type": "code",
   "execution_count": 69,
   "id": "4b9d1500",
   "metadata": {},
   "outputs": [
    {
     "name": "stderr",
     "output_type": "stream",
     "text": [
      "C:\\Users\\teja\\AppData\\Local\\Temp\\ipykernel_24540\\3023265235.py:2: FutureWarning: DataFrame.applymap has been deprecated. Use DataFrame.map instead.\n",
      "  types = sPlot.applymap(type).apply(set)\n"
     ]
    },
    {
     "data": {
      "text/plain": [
       "Date_of_recording     {<class 'float'>, <class 'str'>}\n",
       "is_forest            {<class 'float'>, <class 'bool'>}\n",
       "ESY                   {<class 'float'>, <class 'str'>}\n",
       "Naturalness           {<class 'float'>, <class 'str'>}\n",
       "Forest               {<class 'float'>, <class 'bool'>}\n",
       "Shrubland            {<class 'float'>, <class 'bool'>}\n",
       "Grassland            {<class 'float'>, <class 'bool'>}\n",
       "Wetland              {<class 'float'>, <class 'bool'>}\n",
       "Sparse_vegetation    {<class 'float'>, <class 'bool'>}\n",
       "dtype: object"
      ]
     },
     "execution_count": 69,
     "metadata": {},
     "output_type": "execute_result"
    }
   ],
   "source": [
    "# only variables not of interest have mixed data types\n",
    "types = sPlot.applymap(type).apply(set)\n",
    "types[types.apply(len) > 1]"
   ]
  },
  {
   "cell_type": "markdown",
   "id": "c0127c1e",
   "metadata": {},
   "source": [
    "Rename the trait columns to match the TRY summary stats:"
   ]
  },
  {
   "cell_type": "code",
   "execution_count": 70,
   "id": "be09fc07",
   "metadata": {},
   "outputs": [],
   "source": [
    "sPlot.rename(columns = {'StemDens_CWM':'Stem specific density (SSD)'}, inplace = True)\n",
    "sPlot.rename(columns = {'LeafC_perdrymass_CWM':'Leaf carbon (C) per mass'}, inplace = True)\n",
    "sPlot.rename(columns = {'LeafN_CWM':'Leaf nitrogen (N) per mass'}, inplace = True)\n",
    "sPlot.rename(columns = {'LeafP_CWM':'Leaf phosphorus (P) per mass'}, inplace = True)\n",
    "sPlot.rename(columns = {'LDMC_CWM':'Leaf dry mass per leaf fresh mass (LDMC)'}, inplace = True)\n",
    "sPlot.rename(columns = {'SeedMass_CWM':'Seed mass'}, inplace = True)\n",
    "sPlot.rename(columns = {'Seed_length_CWM':'Seed length'}, inplace = True)\n",
    "sPlot.rename(columns = {'LeafNperArea_CWM':'Leaf nitrogen (N) per area'}, inplace = True)\n",
    "sPlot.rename(columns = {'LeafNPratio_CWM':'Leaf nitrogen/phosphorus (N/P)'}, inplace = True)\n",
    "sPlot.rename(columns = {'Leaf_delta_15N_CWM':'Leaf delta15N'}, inplace = True)\n",
    "sPlot.rename(columns = {'Leaffreshmass_CWM':'Leaf fresh mass'}, inplace = True)\n",
    "sPlot.rename(columns = {'Seed_num_rep_unit_CWM':'Seeds per rep. unit'}, inplace = True)\n",
    "sPlot.rename(columns = {'Stem_cond_dens_CWM':'Stem conduit density'}, inplace = True)\n",
    "sPlot.rename(columns = {'Disp_unit_leng_CWM':'Dispersal unit length'}, inplace = True)\n",
    "sPlot.rename(columns = {'Wood_vessel_length_CWM':'Conduit element length'}, inplace = True)\n",
    "sPlot.rename(columns = {'PlantHeight_CWM':'Plant Height'}, inplace = True)\n",
    "sPlot.rename(columns = {'LeafArea_CWM':'Leaf Area (all undefined)'}, inplace = True)\n",
    "sPlot.rename(columns = {'SLA_CWM':'Specific Leaf Area (SLA)'}, inplace = True)"
   ]
  },
  {
   "cell_type": "markdown",
   "id": "eaca0c5f",
   "metadata": {},
   "source": [
    "Replace infinite values with ```NaN```"
   ]
  },
  {
   "cell_type": "code",
   "execution_count": 71,
   "id": "1b00c075",
   "metadata": {},
   "outputs": [],
   "source": [
    "sPlot = sPlot.replace(-np.inf, np.nan)\n",
    "sPlot = sPlot.replace(np.inf, np.nan)"
   ]
  },
  {
   "cell_type": "code",
   "execution_count": 72,
   "id": "88e89fc4",
   "metadata": {},
   "outputs": [
    {
     "data": {
      "text/html": [
       "<div>\n",
       "<style scoped>\n",
       "    .dataframe tbody tr th:only-of-type {\n",
       "        vertical-align: middle;\n",
       "    }\n",
       "\n",
       "    .dataframe tbody tr th {\n",
       "        vertical-align: top;\n",
       "    }\n",
       "\n",
       "    .dataframe thead th {\n",
       "        text-align: right;\n",
       "    }\n",
       "</style>\n",
       "<table border=\"1\" class=\"dataframe\">\n",
       "  <thead>\n",
       "    <tr style=\"text-align: right;\">\n",
       "      <th></th>\n",
       "      <th>PlotObservationID</th>\n",
       "      <th>GIVD_ID</th>\n",
       "      <th>Dataset</th>\n",
       "      <th>Continent</th>\n",
       "      <th>Country</th>\n",
       "      <th>Biome</th>\n",
       "      <th>Date_of_recording</th>\n",
       "      <th>Latitude</th>\n",
       "      <th>Longitude</th>\n",
       "      <th>Location_uncertainty</th>\n",
       "      <th>...</th>\n",
       "      <th>Seed length</th>\n",
       "      <th>Leaf dry mass per leaf fresh mass (LDMC)</th>\n",
       "      <th>Leaf nitrogen (N) per area</th>\n",
       "      <th>Leaf nitrogen/phosphorus (N/P)</th>\n",
       "      <th>Leaf delta15N</th>\n",
       "      <th>Seeds per rep. unit</th>\n",
       "      <th>Leaf fresh mass</th>\n",
       "      <th>Stem conduit density</th>\n",
       "      <th>Dispersal unit length</th>\n",
       "      <th>Conduit element length</th>\n",
       "    </tr>\n",
       "  </thead>\n",
       "  <tbody>\n",
       "    <tr>\n",
       "      <th>0</th>\n",
       "      <td>16</td>\n",
       "      <td>NA-US-014</td>\n",
       "      <td>Aava</td>\n",
       "      <td>North America</td>\n",
       "      <td>United States</td>\n",
       "      <td>Boreal zone</td>\n",
       "      <td>1980-01-01</td>\n",
       "      <td>62.42</td>\n",
       "      <td>-154.18</td>\n",
       "      <td>1000.0</td>\n",
       "      <td>...</td>\n",
       "      <td>1.046333</td>\n",
       "      <td>-1.150683</td>\n",
       "      <td>0.024882</td>\n",
       "      <td>1.874128</td>\n",
       "      <td>-0.264750</td>\n",
       "      <td>5.633945</td>\n",
       "      <td>-4.387745</td>\n",
       "      <td>3.483073</td>\n",
       "      <td>1.470741</td>\n",
       "      <td>5.859517</td>\n",
       "    </tr>\n",
       "    <tr>\n",
       "      <th>1</th>\n",
       "      <td>17</td>\n",
       "      <td>NA-US-014</td>\n",
       "      <td>Aava</td>\n",
       "      <td>North America</td>\n",
       "      <td>United States</td>\n",
       "      <td>Boreal zone</td>\n",
       "      <td>1980-01-01</td>\n",
       "      <td>62.42</td>\n",
       "      <td>-154.18</td>\n",
       "      <td>1000.0</td>\n",
       "      <td>...</td>\n",
       "      <td>1.046333</td>\n",
       "      <td>-1.150683</td>\n",
       "      <td>0.024882</td>\n",
       "      <td>1.874128</td>\n",
       "      <td>-0.264750</td>\n",
       "      <td>5.633945</td>\n",
       "      <td>-4.387745</td>\n",
       "      <td>3.483073</td>\n",
       "      <td>1.470741</td>\n",
       "      <td>5.859517</td>\n",
       "    </tr>\n",
       "    <tr>\n",
       "      <th>2</th>\n",
       "      <td>18</td>\n",
       "      <td>NA-US-014</td>\n",
       "      <td>Aava</td>\n",
       "      <td>North America</td>\n",
       "      <td>United States</td>\n",
       "      <td>Boreal zone</td>\n",
       "      <td>1980-01-01</td>\n",
       "      <td>62.42</td>\n",
       "      <td>-154.18</td>\n",
       "      <td>1000.0</td>\n",
       "      <td>...</td>\n",
       "      <td>1.046333</td>\n",
       "      <td>-1.150683</td>\n",
       "      <td>0.024882</td>\n",
       "      <td>1.874128</td>\n",
       "      <td>-0.264750</td>\n",
       "      <td>5.633945</td>\n",
       "      <td>-4.387745</td>\n",
       "      <td>3.483073</td>\n",
       "      <td>1.470741</td>\n",
       "      <td>5.859517</td>\n",
       "    </tr>\n",
       "    <tr>\n",
       "      <th>3</th>\n",
       "      <td>20</td>\n",
       "      <td>NA-US-014</td>\n",
       "      <td>Aava</td>\n",
       "      <td>North America</td>\n",
       "      <td>United States</td>\n",
       "      <td>Boreal zone</td>\n",
       "      <td>1980-01-01</td>\n",
       "      <td>62.42</td>\n",
       "      <td>-154.18</td>\n",
       "      <td>1000.0</td>\n",
       "      <td>...</td>\n",
       "      <td>0.126305</td>\n",
       "      <td>-1.325711</td>\n",
       "      <td>0.107715</td>\n",
       "      <td>1.999404</td>\n",
       "      <td>-0.076209</td>\n",
       "      <td>3.036499</td>\n",
       "      <td>-4.124691</td>\n",
       "      <td>5.337666</td>\n",
       "      <td>0.252902</td>\n",
       "      <td>6.570591</td>\n",
       "    </tr>\n",
       "    <tr>\n",
       "      <th>4</th>\n",
       "      <td>22</td>\n",
       "      <td>NA-US-014</td>\n",
       "      <td>Aava</td>\n",
       "      <td>North America</td>\n",
       "      <td>United States</td>\n",
       "      <td>Boreal zone</td>\n",
       "      <td>1980-01-01</td>\n",
       "      <td>62.42</td>\n",
       "      <td>-154.18</td>\n",
       "      <td>1000.0</td>\n",
       "      <td>...</td>\n",
       "      <td>0.118110</td>\n",
       "      <td>-1.376588</td>\n",
       "      <td>0.122927</td>\n",
       "      <td>2.036662</td>\n",
       "      <td>0.073539</td>\n",
       "      <td>3.451333</td>\n",
       "      <td>-3.968128</td>\n",
       "      <td>5.380727</td>\n",
       "      <td>0.242525</td>\n",
       "      <td>6.558434</td>\n",
       "    </tr>\n",
       "  </tbody>\n",
       "</table>\n",
       "<p>5 rows × 68 columns</p>\n",
       "</div>"
      ],
      "text/plain": [
       "   PlotObservationID    GIVD_ID Dataset      Continent        Country  \\\n",
       "0                 16  NA-US-014    Aava  North America  United States   \n",
       "1                 17  NA-US-014    Aava  North America  United States   \n",
       "2                 18  NA-US-014    Aava  North America  United States   \n",
       "3                 20  NA-US-014    Aava  North America  United States   \n",
       "4                 22  NA-US-014    Aava  North America  United States   \n",
       "\n",
       "         Biome Date_of_recording  Latitude  Longitude  Location_uncertainty  \\\n",
       "0  Boreal zone        1980-01-01     62.42    -154.18                1000.0   \n",
       "1  Boreal zone        1980-01-01     62.42    -154.18                1000.0   \n",
       "2  Boreal zone        1980-01-01     62.42    -154.18                1000.0   \n",
       "3  Boreal zone        1980-01-01     62.42    -154.18                1000.0   \n",
       "4  Boreal zone        1980-01-01     62.42    -154.18                1000.0   \n",
       "\n",
       "   ...  Seed length Leaf dry mass per leaf fresh mass (LDMC)  \\\n",
       "0  ...     1.046333                                -1.150683   \n",
       "1  ...     1.046333                                -1.150683   \n",
       "2  ...     1.046333                                -1.150683   \n",
       "3  ...     0.126305                                -1.325711   \n",
       "4  ...     0.118110                                -1.376588   \n",
       "\n",
       "   Leaf nitrogen (N) per area  Leaf nitrogen/phosphorus (N/P)  Leaf delta15N  \\\n",
       "0                    0.024882                        1.874128      -0.264750   \n",
       "1                    0.024882                        1.874128      -0.264750   \n",
       "2                    0.024882                        1.874128      -0.264750   \n",
       "3                    0.107715                        1.999404      -0.076209   \n",
       "4                    0.122927                        2.036662       0.073539   \n",
       "\n",
       "  Seeds per rep. unit Leaf fresh mass Stem conduit density  \\\n",
       "0            5.633945       -4.387745             3.483073   \n",
       "1            5.633945       -4.387745             3.483073   \n",
       "2            5.633945       -4.387745             3.483073   \n",
       "3            3.036499       -4.124691             5.337666   \n",
       "4            3.451333       -3.968128             5.380727   \n",
       "\n",
       "  Dispersal unit length Conduit element length  \n",
       "0              1.470741               5.859517  \n",
       "1              1.470741               5.859517  \n",
       "2              1.470741               5.859517  \n",
       "3              0.252902               6.570591  \n",
       "4              0.242525               6.558434  \n",
       "\n",
       "[5 rows x 68 columns]"
      ]
     },
     "execution_count": 72,
     "metadata": {},
     "output_type": "execute_result"
    }
   ],
   "source": [
    "sPlot.head()"
   ]
  },
  {
   "cell_type": "markdown",
   "id": "cedce9a9",
   "metadata": {},
   "source": [
    "Save this dataframe as ```csv```."
   ]
  },
  {
   "cell_type": "code",
   "execution_count": 73,
   "id": "eab8faf7",
   "metadata": {},
   "outputs": [],
   "source": [
    "sPlot.to_csv(\"exports/cwm_loc.csv\", index=False)"
   ]
  },
  {
   "cell_type": "markdown",
   "id": "9f0360fd",
   "metadata": {},
   "source": [
    "## Plot density"
   ]
  },
  {
   "cell_type": "code",
   "execution_count": 74,
   "id": "e2fa79fb",
   "metadata": {},
   "outputs": [],
   "source": [
    "def gridmap(long, lat, label, projection, colorbar=True):\n",
    "    \n",
    "    plt.rcParams.update({'font.size': 15})\n",
    "\n",
    "    Z, xedges, yedges = np.histogram2d(np.array(long,dtype=float),\n",
    "                                   np.array(lat),bins = [181, 91])\n",
    "\n",
    "    #https://stackoverflow.com/questions/67801227/color-a-2d-histogram-not-by-density-but-by-the-mean-of-a-third-column\n",
    "    #https://medium.com/analytics-vidhya/custom-strava-heatmap-231267dcd084\n",
    "    \n",
    "    #let function know what projection provided data is in:\n",
    "    data_crs = ccrs.PlateCarree()\n",
    "    \n",
    "    #for colorbar\n",
    "    cmap = plt.get_cmap('cool')\n",
    "    im_ratio = Z.shape[0]/Z.shape[1]\n",
    "\n",
    "    #plot map\n",
    "    #create base plot of a world map\n",
    "    ax = fig.add_subplot(1, 1, 1, projection=projection) # I used the PlateCarree projection from cartopy\n",
    "    \n",
    "    # set figure to map global extent (-180,180,-90,90)\n",
    "    ax.set_global()\n",
    "    \n",
    "    #add coastlines\n",
    "    ax.coastlines(resolution='110m', color='orange', linewidth=1.3)\n",
    "    \n",
    "    #add grid with values\n",
    "    im = ax.pcolormesh(xedges, yedges, Z.T, cmap=\"cool\", norm=LogNorm(), transform=data_crs) #, vmax = 400000)\n",
    "    \n",
    "    #add color bar\n",
    "    if colorbar==True:\n",
    "        fig.colorbar(im,fraction=0.046*im_ratio, pad=0.04, shrink=0.3, location=\"left\", label=label)\n",
    "\n"
   ]
  },
  {
   "cell_type": "markdown",
   "id": "cca0044f",
   "metadata": {},
   "source": [
    "Apply the ```gridmap``` function to plot a 2D histogramm of the sPlotOpen plots and save output as ```.pdf```. You can also experiment with other projections. See https://scitools.org.uk/cartopy/docs/v0.15/crs/projections.html for inspiration."
   ]
  },
  {
   "cell_type": "code",
   "execution_count": 75,
   "id": "ad9a2a64",
   "metadata": {},
   "outputs": [
    {
     "data": {
      "text/plain": [
       "0       -154.180000\n",
       "1       -154.180000\n",
       "2       -154.180000\n",
       "3       -154.180000\n",
       "4       -154.180000\n",
       "            ...    \n",
       "95099     27.273862\n",
       "95100     23.598014\n",
       "95101     23.598014\n",
       "95102     22.147667\n",
       "95103     26.892074\n",
       "Name: Longitude, Length: 95104, dtype: float64"
      ]
     },
     "execution_count": 75,
     "metadata": {},
     "output_type": "execute_result"
    }
   ],
   "source": [
    "sPlot.Longitude"
   ]
  },
  {
   "cell_type": "code",
   "execution_count": 76,
   "id": "75d74a76",
   "metadata": {},
   "outputs": [
    {
     "data": {
      "image/png": "[encoded data removed]",
      "text/plain": [
       "<Figure size 1200x1200 with 2 Axes>"
      ]
     },
     "metadata": {},
     "output_type": "display_data"
    }
   ],
   "source": [
    "fig = plt.figure(figsize=(12, 12))\n",
    "gridmap(sPlot['Longitude'], sPlot['Latitude'], \"Number of sPlotOpen Plots\", projection = ccrs.Robinson())\n",
    "plt.savefig('figures/sPlot_density_Robinson_all.pdf', bbox_inches='tight')"
   ]
  },
  {
   "cell_type": "code",
   "execution_count": null,
   "id": "207014db",
   "metadata": {},
   "outputs": [],
   "source": []
  }
 ],
 "metadata": {
  "kernelspec": {
   "display_name": "Python 3 (ipykernel)",
   "language": "python",
   "name": "python3"
  },
  "language_info": {
   "codemirror_mode": {
    "name": "ipython",
    "version": 3
   },
   "file_extension": ".py",
   "mimetype": "text/x-python",
   "name": "python",
   "nbconvert_exporter": "python",
   "pygments_lexer": "ipython3",
   "version": "3.10.13"
  }
 },
 "nbformat": 4,
 "nbformat_minor": 5
}
