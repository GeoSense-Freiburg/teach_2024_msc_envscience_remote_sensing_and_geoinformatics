{
 "cells": [
  {
   "cell_type": "markdown",
   "metadata": {},
   "source": [
    "# Trait map generation from point data\n",
    "\n",
    "In this section we will create global trait maps based on the GBIF that we linked to the trait data from the TRY database data. Thus, for each GBIF observation in this dataset, we have a geocoordinate and a trait value. Using this, we can aggregate the individual observations in raster cells by calculating the average (or other moments, such as the standard deviation). Later, we will validate these global maps with the splot data."
   ]
  },
  {
   "cell_type": "markdown",
   "metadata": {},
   "source": [
    "\n",
    "## Assignments\n",
    "\n",
    "\n",
    "* Create global maps based on the GBIF data and sPlot data at 0.5 and 2.0 degree resolution and assess the correlation (at the example of 2-3 traits). How do can you explain the difference?\n",
    "* In addition to mean trait maps, create trait maps of the trait standard deviation\n",
    "* Create a correlation matrix in which the plant traits (mean and standard deviation) are correlated against environmental variables (WorldClim, SoilGrids).\n",
    "    * Which environmental drivers are the most important drivers of the functional trait space?\n",
    "* In addition to trait maps (mean, standard deviation), create map different functional diversity metrics:    \n",
    "    * https://www.researchgate.net/publication/233845904_A_user's_guide_to_functional_diversity_indices\n",
    "    * Also consider to ask ChatGPT or Copilot on how to implement the functonal diversity metrics in Python BUT careful evaluate the formulas :-)\n",
    "        Here might be an interesting ChatGPT prompt: Let´s assume I have a set of plant trait observations and species observations, which functional diversity metrics can I calculate and how can I implement them in python?\n",
    "    * Maybe you can get inspiration from that R-Package: https://funecology.github.io/fundiversity/)\n",
    "* Optional: Find a way to run the process on the entire GBIF archive to produce trait maps with higher global coverage (but has 240 GB)\n",
    "    * https://www.gbif.org/occurrence/download?taxon_key=7707728&occurrence_status=present\n",
    "* Optional: Create trait maps for different Plant Functional Types (PFT), such as grassland, tree or shrub species. The PFT information can be found in ``data/try_pft_v1.csv``"
   ]
  },
  {
   "cell_type": "code",
   "execution_count": 1,
   "metadata": {},
   "outputs": [],
   "source": [
    "import pandas as pd\n",
    "import numpy as np\n",
    "import rasterio\n",
    "import rasterio as rio\n",
    "from rasterio.transform import from_origin\n",
    "from rasterio.features import rasterize\n",
    "import os\n",
    "import matplotlib.pyplot as plt\n",
    "from typing import Union\n",
    "import glob\n",
    "import rioxarray"
   ]
  },
  {
   "cell_type": "code",
   "execution_count": 2,
   "metadata": {},
   "outputs": [],
   "source": [
    "# Set the path to our working directory (where your data is stored)\n",
    "working_directory = \"G:/My Drive/teaching/2024_msc_remotesensing_geoinformatics/\"\n",
    "os.chdir(working_directory)"
   ]
  },
  {
   "cell_type": "markdown",
   "metadata": {},
   "source": [
    "## Load data"
   ]
  },
  {
   "cell_type": "code",
   "execution_count": 3,
   "metadata": {},
   "outputs": [
    {
     "name": "stderr",
     "output_type": "stream",
     "text": [
      "C:\\Users\\teja\\AppData\\Local\\Temp\\ipykernel_31300\\345893711.py:2: DtypeWarning: Columns (16) have mixed types. Specify dtype option on import or set low_memory=False.\n",
      "  sPlot = pd.read_csv('exports/cwm_loc.csv')\n"
     ]
    },
    {
     "data": {
      "text/html": [
       "<div>\n",
       "<style scoped>\n",
       "    .dataframe tbody tr th:only-of-type {\n",
       "        vertical-align: middle;\n",
       "    }\n",
       "\n",
       "    .dataframe tbody tr th {\n",
       "        vertical-align: top;\n",
       "    }\n",
       "\n",
       "    .dataframe thead th {\n",
       "        text-align: right;\n",
       "    }\n",
       "</style>\n",
       "<table border=\"1\" class=\"dataframe\">\n",
       "  <thead>\n",
       "    <tr style=\"text-align: right;\">\n",
       "      <th></th>\n",
       "      <th>PlotObservationID</th>\n",
       "      <th>GIVD_ID</th>\n",
       "      <th>Dataset</th>\n",
       "      <th>Continent</th>\n",
       "      <th>Country</th>\n",
       "      <th>Biome</th>\n",
       "      <th>Date_of_recording</th>\n",
       "      <th>Latitude</th>\n",
       "      <th>Longitude</th>\n",
       "      <th>Location_uncertainty</th>\n",
       "      <th>...</th>\n",
       "      <th>Seed length</th>\n",
       "      <th>Leaf dry mass per leaf fresh mass (LDMC)</th>\n",
       "      <th>Leaf nitrogen (N) per area</th>\n",
       "      <th>Leaf nitrogen/phosphorus (N/P)</th>\n",
       "      <th>Leaf delta15N</th>\n",
       "      <th>Seeds per rep. unit</th>\n",
       "      <th>Leaf fresh mass</th>\n",
       "      <th>Stem conduit density</th>\n",
       "      <th>Dispersal unit length</th>\n",
       "      <th>Conduit element length</th>\n",
       "    </tr>\n",
       "  </thead>\n",
       "  <tbody>\n",
       "    <tr>\n",
       "      <th>0</th>\n",
       "      <td>16</td>\n",
       "      <td>NA-US-014</td>\n",
       "      <td>Aava</td>\n",
       "      <td>North America</td>\n",
       "      <td>United States</td>\n",
       "      <td>Boreal zone</td>\n",
       "      <td>1980-01-01</td>\n",
       "      <td>62.42</td>\n",
       "      <td>-154.18</td>\n",
       "      <td>1000.0</td>\n",
       "      <td>...</td>\n",
       "      <td>1.046333</td>\n",
       "      <td>-1.150683</td>\n",
       "      <td>0.024882</td>\n",
       "      <td>1.874128</td>\n",
       "      <td>-0.264750</td>\n",
       "      <td>5.633945</td>\n",
       "      <td>-4.387745</td>\n",
       "      <td>3.483073</td>\n",
       "      <td>1.470741</td>\n",
       "      <td>5.859517</td>\n",
       "    </tr>\n",
       "    <tr>\n",
       "      <th>1</th>\n",
       "      <td>17</td>\n",
       "      <td>NA-US-014</td>\n",
       "      <td>Aava</td>\n",
       "      <td>North America</td>\n",
       "      <td>United States</td>\n",
       "      <td>Boreal zone</td>\n",
       "      <td>1980-01-01</td>\n",
       "      <td>62.42</td>\n",
       "      <td>-154.18</td>\n",
       "      <td>1000.0</td>\n",
       "      <td>...</td>\n",
       "      <td>1.046333</td>\n",
       "      <td>-1.150683</td>\n",
       "      <td>0.024882</td>\n",
       "      <td>1.874128</td>\n",
       "      <td>-0.264750</td>\n",
       "      <td>5.633945</td>\n",
       "      <td>-4.387745</td>\n",
       "      <td>3.483073</td>\n",
       "      <td>1.470741</td>\n",
       "      <td>5.859517</td>\n",
       "    </tr>\n",
       "    <tr>\n",
       "      <th>2</th>\n",
       "      <td>18</td>\n",
       "      <td>NA-US-014</td>\n",
       "      <td>Aava</td>\n",
       "      <td>North America</td>\n",
       "      <td>United States</td>\n",
       "      <td>Boreal zone</td>\n",
       "      <td>1980-01-01</td>\n",
       "      <td>62.42</td>\n",
       "      <td>-154.18</td>\n",
       "      <td>1000.0</td>\n",
       "      <td>...</td>\n",
       "      <td>1.046333</td>\n",
       "      <td>-1.150683</td>\n",
       "      <td>0.024882</td>\n",
       "      <td>1.874128</td>\n",
       "      <td>-0.264750</td>\n",
       "      <td>5.633945</td>\n",
       "      <td>-4.387745</td>\n",
       "      <td>3.483073</td>\n",
       "      <td>1.470741</td>\n",
       "      <td>5.859517</td>\n",
       "    </tr>\n",
       "    <tr>\n",
       "      <th>3</th>\n",
       "      <td>20</td>\n",
       "      <td>NA-US-014</td>\n",
       "      <td>Aava</td>\n",
       "      <td>North America</td>\n",
       "      <td>United States</td>\n",
       "      <td>Boreal zone</td>\n",
       "      <td>1980-01-01</td>\n",
       "      <td>62.42</td>\n",
       "      <td>-154.18</td>\n",
       "      <td>1000.0</td>\n",
       "      <td>...</td>\n",
       "      <td>0.126305</td>\n",
       "      <td>-1.325711</td>\n",
       "      <td>0.107715</td>\n",
       "      <td>1.999404</td>\n",
       "      <td>-0.076209</td>\n",
       "      <td>3.036499</td>\n",
       "      <td>-4.124691</td>\n",
       "      <td>5.337666</td>\n",
       "      <td>0.252902</td>\n",
       "      <td>6.570591</td>\n",
       "    </tr>\n",
       "    <tr>\n",
       "      <th>4</th>\n",
       "      <td>22</td>\n",
       "      <td>NA-US-014</td>\n",
       "      <td>Aava</td>\n",
       "      <td>North America</td>\n",
       "      <td>United States</td>\n",
       "      <td>Boreal zone</td>\n",
       "      <td>1980-01-01</td>\n",
       "      <td>62.42</td>\n",
       "      <td>-154.18</td>\n",
       "      <td>1000.0</td>\n",
       "      <td>...</td>\n",
       "      <td>0.118110</td>\n",
       "      <td>-1.376588</td>\n",
       "      <td>0.122927</td>\n",
       "      <td>2.036662</td>\n",
       "      <td>0.073539</td>\n",
       "      <td>3.451333</td>\n",
       "      <td>-3.968128</td>\n",
       "      <td>5.380727</td>\n",
       "      <td>0.242525</td>\n",
       "      <td>6.558434</td>\n",
       "    </tr>\n",
       "  </tbody>\n",
       "</table>\n",
       "<p>5 rows × 68 columns</p>\n",
       "</div>"
      ],
      "text/plain": [
       "   PlotObservationID    GIVD_ID Dataset      Continent        Country  \\\n",
       "0                 16  NA-US-014    Aava  North America  United States   \n",
       "1                 17  NA-US-014    Aava  North America  United States   \n",
       "2                 18  NA-US-014    Aava  North America  United States   \n",
       "3                 20  NA-US-014    Aava  North America  United States   \n",
       "4                 22  NA-US-014    Aava  North America  United States   \n",
       "\n",
       "         Biome Date_of_recording  Latitude  Longitude  Location_uncertainty  \\\n",
       "0  Boreal zone        1980-01-01     62.42    -154.18                1000.0   \n",
       "1  Boreal zone        1980-01-01     62.42    -154.18                1000.0   \n",
       "2  Boreal zone        1980-01-01     62.42    -154.18                1000.0   \n",
       "3  Boreal zone        1980-01-01     62.42    -154.18                1000.0   \n",
       "4  Boreal zone        1980-01-01     62.42    -154.18                1000.0   \n",
       "\n",
       "   ...  Seed length Leaf dry mass per leaf fresh mass (LDMC)  \\\n",
       "0  ...     1.046333                                -1.150683   \n",
       "1  ...     1.046333                                -1.150683   \n",
       "2  ...     1.046333                                -1.150683   \n",
       "3  ...     0.126305                                -1.325711   \n",
       "4  ...     0.118110                                -1.376588   \n",
       "\n",
       "   Leaf nitrogen (N) per area  Leaf nitrogen/phosphorus (N/P)  Leaf delta15N  \\\n",
       "0                    0.024882                        1.874128      -0.264750   \n",
       "1                    0.024882                        1.874128      -0.264750   \n",
       "2                    0.024882                        1.874128      -0.264750   \n",
       "3                    0.107715                        1.999404      -0.076209   \n",
       "4                    0.122927                        2.036662       0.073539   \n",
       "\n",
       "  Seeds per rep. unit Leaf fresh mass Stem conduit density  \\\n",
       "0            5.633945       -4.387745             3.483073   \n",
       "1            5.633945       -4.387745             3.483073   \n",
       "2            5.633945       -4.387745             3.483073   \n",
       "3            3.036499       -4.124691             5.337666   \n",
       "4            3.451333       -3.968128             5.380727   \n",
       "\n",
       "  Dispersal unit length Conduit element length  \n",
       "0              1.470741               5.859517  \n",
       "1              1.470741               5.859517  \n",
       "2              1.470741               5.859517  \n",
       "3              0.252902               6.570591  \n",
       "4              0.242525               6.558434  \n",
       "\n",
       "[5 rows x 68 columns]"
      ]
     },
     "execution_count": 3,
     "metadata": {},
     "output_type": "execute_result"
    }
   ],
   "source": [
    "# Load sPlot Data\n",
    "sPlot = pd.read_csv('exports/cwm_loc.csv')\n",
    "sPlot.head()"
   ]
  },
  {
   "cell_type": "code",
   "execution_count": 4,
   "metadata": {},
   "outputs": [
    {
     "data": {
      "text/html": [
       "<div>\n",
       "<style scoped>\n",
       "    .dataframe tbody tr th:only-of-type {\n",
       "        vertical-align: middle;\n",
       "    }\n",
       "\n",
       "    .dataframe tbody tr th {\n",
       "        vertical-align: top;\n",
       "    }\n",
       "\n",
       "    .dataframe thead th {\n",
       "        text-align: right;\n",
       "    }\n",
       "</style>\n",
       "<table border=\"1\" class=\"dataframe\">\n",
       "  <thead>\n",
       "    <tr style=\"text-align: right;\">\n",
       "      <th></th>\n",
       "      <th>gbifID</th>\n",
       "      <th>decimalLatitude</th>\n",
       "      <th>decimalLongitude</th>\n",
       "      <th>dateIdentified</th>\n",
       "      <th>scientificName</th>\n",
       "      <th>kingdom</th>\n",
       "      <th>phylum</th>\n",
       "      <th>order</th>\n",
       "      <th>family</th>\n",
       "      <th>genus</th>\n",
       "      <th>...</th>\n",
       "      <th>chromosome cDNA content</th>\n",
       "      <th>Dispersal unit length</th>\n",
       "      <th>Stem conduit diameter</th>\n",
       "      <th>Conduit element length</th>\n",
       "      <th>Wood fibre length</th>\n",
       "      <th>Root length per root dry mass</th>\n",
       "      <th>Leaf Area (leaflet, petiole undef.)</th>\n",
       "      <th>Leaf Area (leaf, petiole undef.)</th>\n",
       "      <th>Leaf Area (all undefined)</th>\n",
       "      <th>Leaf Water content per mass</th>\n",
       "    </tr>\n",
       "  </thead>\n",
       "  <tbody>\n",
       "    <tr>\n",
       "      <th>0</th>\n",
       "      <td>891019304</td>\n",
       "      <td>47.684845</td>\n",
       "      <td>-122.589408</td>\n",
       "      <td>2012-02-11T00:45:13</td>\n",
       "      <td>Taxus brevifolia Nutt.</td>\n",
       "      <td>Plantae</td>\n",
       "      <td>Tracheophyta</td>\n",
       "      <td>Pinales</td>\n",
       "      <td>Taxaceae</td>\n",
       "      <td>Taxus</td>\n",
       "      <td>...</td>\n",
       "      <td>3.036512</td>\n",
       "      <td>1.699454</td>\n",
       "      <td>2.266439</td>\n",
       "      <td>5.955261</td>\n",
       "      <td>6.708805</td>\n",
       "      <td>5.204809</td>\n",
       "      <td>3.447254</td>\n",
       "      <td>3.456160</td>\n",
       "      <td>3.179939</td>\n",
       "      <td>1.006596</td>\n",
       "    </tr>\n",
       "    <tr>\n",
       "      <th>1</th>\n",
       "      <td>891019473</td>\n",
       "      <td>38.449024</td>\n",
       "      <td>-122.704169</td>\n",
       "      <td>2012-03-17T22:47:21</td>\n",
       "      <td>Bellis perennis L.</td>\n",
       "      <td>Plantae</td>\n",
       "      <td>Tracheophyta</td>\n",
       "      <td>Asterales</td>\n",
       "      <td>Asteraceae</td>\n",
       "      <td>Bellis</td>\n",
       "      <td>...</td>\n",
       "      <td>1.339604</td>\n",
       "      <td>0.481574</td>\n",
       "      <td>3.294559</td>\n",
       "      <td>6.104779</td>\n",
       "      <td>6.654645</td>\n",
       "      <td>9.021122</td>\n",
       "      <td>5.967409</td>\n",
       "      <td>5.978303</td>\n",
       "      <td>7.282113</td>\n",
       "      <td>2.063501</td>\n",
       "    </tr>\n",
       "    <tr>\n",
       "      <th>2</th>\n",
       "      <td>891021129</td>\n",
       "      <td>34.808273</td>\n",
       "      <td>-111.771296</td>\n",
       "      <td>2012-10-04T01:57:30</td>\n",
       "      <td>Canotia holacantha Torr.</td>\n",
       "      <td>Plantae</td>\n",
       "      <td>Tracheophyta</td>\n",
       "      <td>Celastrales</td>\n",
       "      <td>Celastraceae</td>\n",
       "      <td>Canotia</td>\n",
       "      <td>...</td>\n",
       "      <td>0.859522</td>\n",
       "      <td>1.543625</td>\n",
       "      <td>3.775880</td>\n",
       "      <td>6.355035</td>\n",
       "      <td>6.933957</td>\n",
       "      <td>6.574034</td>\n",
       "      <td>7.609064</td>\n",
       "      <td>7.117014</td>\n",
       "      <td>7.968083</td>\n",
       "      <td>1.177283</td>\n",
       "    </tr>\n",
       "    <tr>\n",
       "      <th>3</th>\n",
       "      <td>891021463</td>\n",
       "      <td>35.161813</td>\n",
       "      <td>-118.578242</td>\n",
       "      <td>2012-09-29T16:30:32</td>\n",
       "      <td>Frangula californica (Eschsch.) A.Gray</td>\n",
       "      <td>Plantae</td>\n",
       "      <td>Tracheophyta</td>\n",
       "      <td>Rosales</td>\n",
       "      <td>Rhamnaceae</td>\n",
       "      <td>Frangula</td>\n",
       "      <td>...</td>\n",
       "      <td>0.191659</td>\n",
       "      <td>2.451874</td>\n",
       "      <td>3.340559</td>\n",
       "      <td>5.753703</td>\n",
       "      <td>6.278537</td>\n",
       "      <td>8.160378</td>\n",
       "      <td>6.932882</td>\n",
       "      <td>6.901085</td>\n",
       "      <td>6.807849</td>\n",
       "      <td>1.221212</td>\n",
       "    </tr>\n",
       "    <tr>\n",
       "      <th>4</th>\n",
       "      <td>891021564</td>\n",
       "      <td>40.442529</td>\n",
       "      <td>-121.528058</td>\n",
       "      <td>2012-10-09T23:27:01</td>\n",
       "      <td>Monardella odoratissima Benth.</td>\n",
       "      <td>Plantae</td>\n",
       "      <td>Tracheophyta</td>\n",
       "      <td>Lamiales</td>\n",
       "      <td>Lamiaceae</td>\n",
       "      <td>Monardella</td>\n",
       "      <td>...</td>\n",
       "      <td>0.917418</td>\n",
       "      <td>0.495989</td>\n",
       "      <td>3.371571</td>\n",
       "      <td>5.810061</td>\n",
       "      <td>6.349841</td>\n",
       "      <td>8.279049</td>\n",
       "      <td>6.024887</td>\n",
       "      <td>6.374260</td>\n",
       "      <td>5.715063</td>\n",
       "      <td>1.553562</td>\n",
       "    </tr>\n",
       "  </tbody>\n",
       "</table>\n",
       "<p>5 rows × 48 columns</p>\n",
       "</div>"
      ],
      "text/plain": [
       "      gbifID  decimalLatitude  decimalLongitude       dateIdentified  \\\n",
       "0  891019304        47.684845       -122.589408  2012-02-11T00:45:13   \n",
       "1  891019473        38.449024       -122.704169  2012-03-17T22:47:21   \n",
       "2  891021129        34.808273       -111.771296  2012-10-04T01:57:30   \n",
       "3  891021463        35.161813       -118.578242  2012-09-29T16:30:32   \n",
       "4  891021564        40.442529       -121.528058  2012-10-09T23:27:01   \n",
       "\n",
       "                           scientificName  kingdom        phylum        order  \\\n",
       "0                  Taxus brevifolia Nutt.  Plantae  Tracheophyta      Pinales   \n",
       "1                      Bellis perennis L.  Plantae  Tracheophyta    Asterales   \n",
       "2                Canotia holacantha Torr.  Plantae  Tracheophyta  Celastrales   \n",
       "3  Frangula californica (Eschsch.) A.Gray  Plantae  Tracheophyta      Rosales   \n",
       "4          Monardella odoratissima Benth.  Plantae  Tracheophyta     Lamiales   \n",
       "\n",
       "         family       genus  ...  chromosome cDNA content  \\\n",
       "0      Taxaceae       Taxus  ...                 3.036512   \n",
       "1    Asteraceae      Bellis  ...                 1.339604   \n",
       "2  Celastraceae     Canotia  ...                 0.859522   \n",
       "3    Rhamnaceae    Frangula  ...                 0.191659   \n",
       "4     Lamiaceae  Monardella  ...                 0.917418   \n",
       "\n",
       "  Dispersal unit length  Stem conduit diameter  Conduit element length  \\\n",
       "0              1.699454               2.266439                5.955261   \n",
       "1              0.481574               3.294559                6.104779   \n",
       "2              1.543625               3.775880                6.355035   \n",
       "3              2.451874               3.340559                5.753703   \n",
       "4              0.495989               3.371571                5.810061   \n",
       "\n",
       "  Wood fibre length  Root length per root dry mass  \\\n",
       "0          6.708805                       5.204809   \n",
       "1          6.654645                       9.021122   \n",
       "2          6.933957                       6.574034   \n",
       "3          6.278537                       8.160378   \n",
       "4          6.349841                       8.279049   \n",
       "\n",
       "   Leaf Area (leaflet, petiole undef.)  Leaf Area (leaf, petiole undef.)  \\\n",
       "0                             3.447254                          3.456160   \n",
       "1                             5.967409                          5.978303   \n",
       "2                             7.609064                          7.117014   \n",
       "3                             6.932882                          6.901085   \n",
       "4                             6.024887                          6.374260   \n",
       "\n",
       "   Leaf Area (all undefined)  Leaf Water content per mass  \n",
       "0                   3.179939                     1.006596  \n",
       "1                   7.282113                     2.063501  \n",
       "2                   7.968083                     1.177283  \n",
       "3                   6.807849                     1.221212  \n",
       "4                   5.715063                     1.553562  \n",
       "\n",
       "[5 rows x 48 columns]"
      ]
     },
     "execution_count": 4,
     "metadata": {},
     "output_type": "execute_result"
    }
   ],
   "source": [
    "# Load igbif Data\n",
    "gbif = pd.read_csv('exports/gbif_TRY_log.csv')\n",
    "gbif.head()"
   ]
  },
  {
   "cell_type": "markdown",
   "metadata": {},
   "source": [
    "## Define the functions for rasterization"
   ]
  },
  {
   "cell_type": "markdown",
   "metadata": {},
   "source": [
    "A function to rasterize the point data"
   ]
  },
  {
   "cell_type": "code",
   "execution_count": 6,
   "metadata": {},
   "outputs": [],
   "source": [
    "def rasterize_points(\n",
    "    points: np.ndarray, res: Union[int, float], bbox: tuple\n",
    ") -> np.ndarray:\n",
    "    \"\"\"Rasterize points into a grid with a given resolution.\n",
    "\n",
    "    Args:\n",
    "        points (np.ndarray): Points to rasterize, with columns (x, y, value) (for\n",
    "            geographic coordinates, use (lon, lat, value))\n",
    "        res (Union[int, float]): Resolution of the grid\n",
    "        bbox (tuple): Bounding box of the grid\n",
    "\n",
    "    Returns:\n",
    "        np.ndarray: Rasterized grid\n",
    "    \"\"\"\n",
    "    width = int((bbox[2] - bbox[0]) / res)\n",
    "    height = int((bbox[3] - bbox[1]) / res)\n",
    "\n",
    "    rast = np.full((height, width), np.nan, dtype=np.float32)\n",
    "    count_array = np.full((height, width), np.nan, dtype=np.float32)\n",
    "\n",
    "    for x, y, value in points:\n",
    "        col = int((x - bbox[0]) / res)\n",
    "        row = int((bbox[3] - y) / res)\n",
    "        if np.isnan(rast[row, col]):\n",
    "            rast[row, col] = value\n",
    "            count_array[row, col] = 1\n",
    "        else:\n",
    "            rast[row, col] += value\n",
    "            count_array[row, col] += 1\n",
    "\n",
    "    # Avoid division by zero\n",
    "    count_array = np.nan_to_num(count_array, nan=1)\n",
    "\n",
    "    # Calculate the average\n",
    "    rast = rast / count_array\n",
    "\n",
    "    return rast"
   ]
  },
  {
   "cell_type": "markdown",
   "metadata": {},
   "source": [
    "A function to write the rasters to disk"
   ]
  },
  {
   "cell_type": "code",
   "execution_count": 7,
   "metadata": {},
   "outputs": [],
   "source": [
    "\n",
    "def write_raster(\n",
    "    raster: np.ndarray, res: Union[int, float], bbox: tuple, filename: os.PathLike\n",
    ") -> None:\n",
    "    \"\"\"Write a raster to a GeoTIFF file.\n",
    "\n",
    "    Args:\n",
    "        raster (np.ndarray): Raster matrix to write\n",
    "        res (Union[int, float]): Resolution of the raster\n",
    "        bbox (tuple): Bounding box of the raster\n",
    "        filename (os.PathLike): Path to the output file\n",
    "    \"\"\"\n",
    "    width = int((bbox[2] - bbox[0]) / res)\n",
    "    height = int((bbox[3] - bbox[1]) / res)\n",
    "\n",
    "    with rio.open(\n",
    "        filename,\n",
    "        \"w\",\n",
    "        driver=\"GTiff\",\n",
    "        height=height,\n",
    "        width=width,\n",
    "        nodata=0,\n",
    "        count=1,\n",
    "        dtype=rio.float32,\n",
    "        crs=\"EPSG:4326\",\n",
    "        transform=from_origin(bbox[0], bbox[3], res, res),\n",
    "        compress=\"zstd\",\n",
    "    ) as dst:\n",
    "        dst.write(raster, 1)"
   ]
  },
  {
   "cell_type": "markdown",
   "metadata": {},
   "source": [
    "Let´s apply the function for a single trait and plot the output for a test:"
   ]
  },
  {
   "cell_type": "code",
   "execution_count": 13,
   "metadata": {},
   "outputs": [
    {
     "data": {
      "text/plain": [
       "<matplotlib.collections.QuadMesh at 0x1f3910eace0>"
      ]
     },
     "execution_count": 13,
     "metadata": {},
     "output_type": "execute_result"
    },
    {
     "data": {
      "image/png": "[encoded data removed]",
      "text/plain": [
       "<Figure size 1500x600 with 2 Axes>"
      ]
     },
     "metadata": {},
     "output_type": "display_data"
    }
   ],
   "source": [
    "test = rasterize_points(gbif[[\"decimalLongitude\", \"decimalLatitude\", \"Plant Height\"]].values, 2.0, (-180, -90, 180, 90))\n",
    "os.makedirs(\"temp\", exist_ok=True)\n",
    "write_raster(test, 0.5, (-180, -90, 180, 90), \"temp/test_raster_export_2_0_egree.tif\")\n",
    "test = rioxarray.open_rasterio(\"temp/test_raster_export_2_0_egree.tif\")\n",
    "\n",
    "\n",
    "plt.figure(figsize=(15, 6))\n",
    "test.plot()"
   ]
  },
  {
   "cell_type": "markdown",
   "metadata": {},
   "source": [
    "Again with a different spatial resolution (1 degree cells):"
   ]
  },
  {
   "cell_type": "code",
   "execution_count": 11,
   "metadata": {},
   "outputs": [
    {
     "data": {
      "text/plain": [
       "<matplotlib.collections.QuadMesh at 0x1f3906b3250>"
      ]
     },
     "execution_count": 11,
     "metadata": {},
     "output_type": "execute_result"
    },
    {
     "data": {
      "image/png": "[encoded data removed]",
      "text/plain": [
       "<Figure size 1500x600 with 2 Axes>"
      ]
     },
     "metadata": {},
     "output_type": "display_data"
    }
   ],
   "source": [
    "test = rasterize_points(gbif[[\"decimalLongitude\", \"decimalLatitude\", \"Pl   \"]].values, 2.0, (-180, -90, 180, 90))\n",
    "os.makedirs(\"temp\", exist_ok=True)\n",
    "write_raster(test, 1.0, (-180, -90, 180, 90), \"temp/test_raster_export_2_0_degree.tif\")\n",
    "test = rioxarray.open_rasterio(\"temp/test_raster_export_2_0_degree.tif\")\n",
    "\n",
    "\n",
    "plt.figure(figsize=(15, 6))\n",
    "test.plot()"
   ]
  },
  {
   "cell_type": "markdown",
   "metadata": {},
   "source": [
    "## Automate the process for all traits"
   ]
  },
  {
   "cell_type": "markdown",
   "metadata": {},
   "source": [
    "Create maps for all traits in sPlot"
   ]
  },
  {
   "cell_type": "code",
   "execution_count": 14,
   "metadata": {},
   "outputs": [],
   "source": [
    "# select the trait colums of sPlot\n",
    "traits = sPlot.columns[50:]\n",
    "# define a directory for exporting the trait maps\n",
    "target_dir = \"exports/trait_maps_splot\"\n",
    "os.makedirs(target_dir, exist_ok=True)\n",
    "\n",
    "for trait in traits:\n",
    "    raster = rasterize_points(sPlot[[\"Longitude\", \"Latitude\", trait]].values, 1.0, (-180, -90, 180, 90))\n",
    "    # remove special characters before using the trait name as a filename\n",
    "    trait = trait.replace('(', '_').replace(')', '_').replace('/', '_').replace('.', '_').replace(' ', '_')\n",
    "    write_raster(raster, 0.5, (-180, -90, 180, 90), f\"{target_dir}/sPlot_{trait}.tif\")"
   ]
  },
  {
   "cell_type": "markdown",
   "metadata": {},
   "source": [
    "Create maps for all traits in gbif"
   ]
  },
  {
   "cell_type": "code",
   "execution_count": 15,
   "metadata": {},
   "outputs": [],
   "source": [
    "# select the trait colums of sPlot\n",
    "traits = gbif.columns[15:]\n",
    "# define a directory for exporting the trait maps\n",
    "target_dir = \"exports/trait_maps_gbif\"\n",
    "os.makedirs(target_dir, exist_ok=True)\n",
    "\n",
    "for trait in traits:\n",
    "    raster = rasterize_points(gbif[[\"decimalLongitude\", \"decimalLatitude\", trait]].values, 1.0, (-180, -90, 180, 90))\n",
    "    # remove special characters before using the trait name as a filename\n",
    "    trait = trait.replace('(', '_').replace(')', '_').replace('/', '_').replace('.', '_').replace(' ', '_')\n",
    "    write_raster(raster, 0.5, (-180, -90, 180, 90), f\"{target_dir}/gbif_{trait}.tif\")"
   ]
  },
  {
   "cell_type": "markdown",
   "metadata": {},
   "source": [
    "## Evaluate GBIF-based trait maps with splot:"
   ]
  },
  {
   "cell_type": "code",
   "execution_count": 16,
   "metadata": {},
   "outputs": [],
   "source": [
    "# open trait maps with rioxarray and calculate the correlation between the trait maps\n",
    "\n",
    "gbif_path = glob.glob('exports/trait_maps_gbif/*height*.tif')\n",
    "gbif_rast = rioxarray.open_rasterio(gbif_path[0])\n",
    "\n",
    "splot_path = glob.glob('exports/trait_maps_splot/*height*.tif')\n",
    "splot_rast = rioxarray.open_rasterio(splot_path[0])"
   ]
  },
  {
   "cell_type": "code",
   "execution_count": 17,
   "metadata": {},
   "outputs": [
    {
     "name": "stdout",
     "output_type": "stream",
     "text": [
      "correlation: 0.5165087664691485\n"
     ]
    },
    {
     "data": {
      "text/plain": [
       "Text(0, 0.5, 'trait value sPlot')"
      ]
     },
     "execution_count": 17,
     "metadata": {},
     "output_type": "execute_result"
    },
    {
     "data": {
      "image/png": "[encoded data removed]",
      "text/plain": [
       "<Figure size 640x480 with 1 Axes>"
      ]
     },
     "metadata": {},
     "output_type": "display_data"
    }
   ],
   "source": [
    "gbif_val = gbif_rast.values.flatten()\n",
    "splot_val = splot_rast.values.flatten()\n",
    "\n",
    "nan_gbif = np.where(np.isnan(gbif_val))\n",
    "nan_splot = np.where(np.isnan(splot_val))\n",
    "\n",
    "nan_values = np.concatenate((nan_gbif, nan_splot), axis=1)\n",
    "\n",
    "gbif_val = np.delete(gbif_val, nan_values)\n",
    "splot_val = np.delete(splot_val, nan_values)\n",
    "\n",
    "print(\"correlation:\", np.corrcoef(gbif_val, splot_val)[0, 1])\n",
    "plt.scatter(gbif_val, splot_val)\n",
    "plt.xlabel(\"trait value gbif\")\n",
    "plt.ylabel(\"trait value sPlot\")"
   ]
  },
  {
   "cell_type": "markdown",
   "metadata": {},
   "source": [
    "(note that above we loaded the .csv file with log-transformed values)"
   ]
  },
  {
   "cell_type": "code",
   "execution_count": null,
   "metadata": {},
   "outputs": [],
   "source": []
  }
 ],
 "metadata": {
  "kernelspec": {
   "display_name": "Python 3",
   "language": "python",
   "name": "python3"
  },
  "language_info": {
   "codemirror_mode": {
    "name": "ipython",
    "version": 3
   },
   "file_extension": ".py",
   "mimetype": "text/x-python",
   "name": "python",
   "nbconvert_exporter": "python",
   "pygments_lexer": "ipython3",
   "version": "3.10.13"
  }
 },
 "nbformat": 4,
 "nbformat_minor": 2
}
