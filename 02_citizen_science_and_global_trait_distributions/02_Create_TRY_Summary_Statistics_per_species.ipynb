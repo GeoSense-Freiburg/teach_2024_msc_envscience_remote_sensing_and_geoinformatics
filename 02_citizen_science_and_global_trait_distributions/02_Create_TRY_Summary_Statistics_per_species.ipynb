{
 "cells": [
  {
   "cell_type": "markdown",
   "id": "0b7686b1",
   "metadata": {},
   "source": [
    "# TRY data preprocessing"
   ]
  },
  {
   "cell_type": "markdown",
   "id": "81153684",
   "metadata": {},
   "source": [
    "## Content\n",
    "\n",
    "The TRY database contains trait measurements from individual plants and, typically, multiple individual measurements per trait and species. Before linking the data with the GBIF data, we want a mean trait value per species.\n",
    "\n",
    "This section covers:\n",
    "\n",
    "- Download TRY Data\n",
    "- Load data\n",
    "- clean data\n",
    "- Fuzzy Aggregation of species names\n",
    "- Mean trait measurement per species\n",
    "\n",
    "## Assignemnts\n",
    "- Run the fuzzy matching and calculate how many additional observations we gain from that."
   ]
  },
  {
   "cell_type": "markdown",
   "id": "b79488f8",
   "metadata": {},
   "source": [
    "## Packages, etc."
   ]
  },
  {
   "cell_type": "code",
   "execution_count": 1,
   "id": "bdac5707",
   "metadata": {},
   "outputs": [],
   "source": [
    "import pandas as pd # dataframes\n",
    "import numpy as np  \n",
    "import os # system interface\n",
    "import matplotlib.pyplot as plt # plotting\n",
    "from rapidfuzz import process, fuzz\n",
    "import os"
   ]
  },
  {
   "cell_type": "code",
   "execution_count": 2,
   "id": "88ac67f2",
   "metadata": {},
   "outputs": [],
   "source": [
    "# Set the path to our working directory (where your data is stored)\n",
    "working_directory = \"G:/My Drive/teaching/2024_msc_remotesensing_geoinformatics/\"\n",
    "os.chdir(working_directory)"
   ]
  },
  {
   "cell_type": "markdown",
   "id": "06d82fdf",
   "metadata": {},
   "source": [
    "## Download TRY Data"
   ]
  },
  {
   "cell_type": "markdown",
   "id": "655aa1a9",
   "metadata": {},
   "source": [
    "To download data from the TRY database, create an account at https://www.try-db.org/de.\n",
    "\n",
    "We choose the option of open access data only, but the curators of this database still require you to add a short project description to your download request. You will then be sent a download link via e-mail.\n",
    "\n",
    "For this study we will use continuous (con) traits used in the analysis from Diaz et al. 2016:\n",
    "\n",
    "\n",
    "## Traits in TRY gap-filled:\n",
    "| TRY trait ID | Trait name |\n",
    "|--------------|------------|\n",
    "| 4            | Stem specific density (SSD) or wood density (stem dry mass per stem fresh volume) |\n",
    "| 6            | Root rooting depth |\n",
    "| 11           | Leaf area per leaf dry mass (specific leaf area, SLA or 1/LMA) |\n",
    "| 13           | Leaf carbon (C) content per leaf dry mass |\n",
    "| 14           | Leaf nitrogen (N) content per leaf dry mass |\n",
    "| 15           | Leaf phosphorus (P) content per leaf dry mass |\n",
    "| 18           | Plant height |\n",
    "| 21           | Stem diameter |\n",
    "| 26           | Seed dry mass |\n",
    "| 27           | Seed length |\n",
    "| 46           | Leaf thickness |\n",
    "| 47           | Leaf dry mass per leaf fresh mass (leaf dry matter content, LDMC) |\n",
    "| 50           | Leaf nitrogen (N) content per leaf area |\n",
    "| 55           | Leaf dry mass (single leaf) |\n",
    "| 78           | Leaf nitrogen (N) isotope signature (delta 15N) |\n",
    "| 95           | Seed germination rate (germination efficiency) |\n",
    "| 138          | Seed number per reproduction unit |\n",
    "| 144          | Leaf length |\n",
    "| 145          | Leaf width |\n",
    "| 146          | Leaf carbon/nitrogen (C/N) ratio |\n",
    "| 163          | Leaf fresh mass |\n",
    "| 169          | Stem conduit density (vessels and tracheids) |\n",
    "| 223          | Species genotype: chromosome number |\n",
    "| 224          | Species genotype: chromosome cDNA content |\n",
    "| 237          | Dispersal unit length |\n",
    "| 281          | Stem conduit diameter (vessels, tracheids) |\n",
    "| 282          | Wood vessel element length; stem conduit (vessel and tracheids) element length |\n",
    "| 289          | Wood fiber lengths |\n",
    "| 1080         | Root length per root dry mass (specific root length, SRL) |\n",
    "| 3112         | Leaf area (in case of compound leaves: leaf, undefined if petiole in- or excluded) |\n",
    "| 3113         | Leaf area (in case of compound leaves: leaflet, undefined if petiole is in- or excluded) |\n",
    "| 3114         | Leaf area (in case of compound leaves: undefined if leaf or leaflet, undefined if petiole is in- or excluded) |\n",
    "| 3120         | Leaf water content per leaf dry mass (not saturated) |"
   ]
  },
  {
   "cell_type": "markdown",
   "id": "b94e2bfe",
   "metadata": {},
   "source": [
    "## Load TRY data"
   ]
  },
  {
   "cell_type": "markdown",
   "id": "1ee4064d",
   "metadata": {},
   "source": [
    "First, load the TRY data as a data frame:"
   ]
  },
  {
   "cell_type": "code",
   "execution_count": 3,
   "id": "b8365220",
   "metadata": {},
   "outputs": [],
   "source": [
    "TRYdata = pd.read_csv(\"data/TRY_5_gapfilled/TRY_50_2020_01/gapfilled_data/mean_gap_filled_back_transformed_incl_species_names.csv\", sep = \",\", encoding=\"iso-8859-1\")"
   ]
  },
  {
   "cell_type": "code",
   "execution_count": 4,
   "id": "7a930af4",
   "metadata": {},
   "outputs": [
    {
     "data": {
      "text/html": [
       "<div>\n",
       "<style scoped>\n",
       "    .dataframe tbody tr th:only-of-type {\n",
       "        vertical-align: middle;\n",
       "    }\n",
       "\n",
       "    .dataframe tbody tr th {\n",
       "        vertical-align: top;\n",
       "    }\n",
       "\n",
       "    .dataframe thead th {\n",
       "        text-align: right;\n",
       "    }\n",
       "</style>\n",
       "<table border=\"1\" class=\"dataframe\">\n",
       "  <thead>\n",
       "    <tr style=\"text-align: right;\">\n",
       "      <th></th>\n",
       "      <th>Unnamed: 0</th>\n",
       "      <th>ObservationID</th>\n",
       "      <th>Species</th>\n",
       "      <th>Genus</th>\n",
       "      <th>Family</th>\n",
       "      <th>Unnamed: 5</th>\n",
       "      <th>X4</th>\n",
       "      <th>X6</th>\n",
       "      <th>X11</th>\n",
       "      <th>X13</th>\n",
       "      <th>...</th>\n",
       "      <th>X224</th>\n",
       "      <th>X237</th>\n",
       "      <th>X281</th>\n",
       "      <th>X282</th>\n",
       "      <th>X289</th>\n",
       "      <th>X1080</th>\n",
       "      <th>X3112</th>\n",
       "      <th>X3113</th>\n",
       "      <th>X3114</th>\n",
       "      <th>X3120</th>\n",
       "    </tr>\n",
       "  </thead>\n",
       "  <tbody>\n",
       "    <tr>\n",
       "      <th>0</th>\n",
       "      <td>1</td>\n",
       "      <td>15472</td>\n",
       "      <td>Acer campestre</td>\n",
       "      <td>Acer</td>\n",
       "      <td>Sapindaceae</td>\n",
       "      <td>1</td>\n",
       "      <td>0.575278</td>\n",
       "      <td>1.591828</td>\n",
       "      <td>16.555035</td>\n",
       "      <td>467.432582</td>\n",
       "      <td>...</td>\n",
       "      <td>1.912803</td>\n",
       "      <td>11.633834</td>\n",
       "      <td>18.572872</td>\n",
       "      <td>281.066851</td>\n",
       "      <td>602.987635</td>\n",
       "      <td>2125.125411</td>\n",
       "      <td>1744.813490</td>\n",
       "      <td>1814.698241</td>\n",
       "      <td>1986.123466</td>\n",
       "      <td>3.378113</td>\n",
       "    </tr>\n",
       "    <tr>\n",
       "      <th>1</th>\n",
       "      <td>2</td>\n",
       "      <td>15473</td>\n",
       "      <td>Acer platanoides</td>\n",
       "      <td>Acer</td>\n",
       "      <td>Sapindaceae</td>\n",
       "      <td>2</td>\n",
       "      <td>0.578694</td>\n",
       "      <td>2.684251</td>\n",
       "      <td>18.025933</td>\n",
       "      <td>478.993421</td>\n",
       "      <td>...</td>\n",
       "      <td>1.926785</td>\n",
       "      <td>22.069494</td>\n",
       "      <td>28.253946</td>\n",
       "      <td>244.409216</td>\n",
       "      <td>465.283791</td>\n",
       "      <td>2281.846496</td>\n",
       "      <td>8020.967391</td>\n",
       "      <td>6930.279638</td>\n",
       "      <td>9414.095662</td>\n",
       "      <td>2.844882</td>\n",
       "    </tr>\n",
       "    <tr>\n",
       "      <th>2</th>\n",
       "      <td>3</td>\n",
       "      <td>15474</td>\n",
       "      <td>Acer pseudoplatanus</td>\n",
       "      <td>Acer</td>\n",
       "      <td>Sapindaceae</td>\n",
       "      <td>3</td>\n",
       "      <td>0.565983</td>\n",
       "      <td>3.626007</td>\n",
       "      <td>14.525270</td>\n",
       "      <td>465.678355</td>\n",
       "      <td>...</td>\n",
       "      <td>1.926318</td>\n",
       "      <td>17.481870</td>\n",
       "      <td>35.892412</td>\n",
       "      <td>269.923990</td>\n",
       "      <td>625.571232</td>\n",
       "      <td>2912.703245</td>\n",
       "      <td>6559.387661</td>\n",
       "      <td>7161.510957</td>\n",
       "      <td>7258.748497</td>\n",
       "      <td>3.102016</td>\n",
       "    </tr>\n",
       "    <tr>\n",
       "      <th>3</th>\n",
       "      <td>4</td>\n",
       "      <td>15475</td>\n",
       "      <td>Aesculus hippocastanum</td>\n",
       "      <td>Aesculus</td>\n",
       "      <td>Sapindaceae</td>\n",
       "      <td>4</td>\n",
       "      <td>0.512497</td>\n",
       "      <td>1.294184</td>\n",
       "      <td>13.685400</td>\n",
       "      <td>476.455478</td>\n",
       "      <td>...</td>\n",
       "      <td>1.051404</td>\n",
       "      <td>36.273125</td>\n",
       "      <td>149.464337</td>\n",
       "      <td>1912.797150</td>\n",
       "      <td>1978.554979</td>\n",
       "      <td>222.062770</td>\n",
       "      <td>34646.499320</td>\n",
       "      <td>7422.981332</td>\n",
       "      <td>19558.197900</td>\n",
       "      <td>3.360854</td>\n",
       "    </tr>\n",
       "    <tr>\n",
       "      <th>4</th>\n",
       "      <td>5</td>\n",
       "      <td>15476</td>\n",
       "      <td>Alnus glutinosa</td>\n",
       "      <td>Alnus</td>\n",
       "      <td>Betulaceae</td>\n",
       "      <td>5</td>\n",
       "      <td>0.472010</td>\n",
       "      <td>0.650320</td>\n",
       "      <td>15.543528</td>\n",
       "      <td>477.811755</td>\n",
       "      <td>...</td>\n",
       "      <td>1.327681</td>\n",
       "      <td>2.429191</td>\n",
       "      <td>33.449572</td>\n",
       "      <td>370.340169</td>\n",
       "      <td>576.379892</td>\n",
       "      <td>2939.846214</td>\n",
       "      <td>2572.873819</td>\n",
       "      <td>2843.044898</td>\n",
       "      <td>2723.491784</td>\n",
       "      <td>3.424225</td>\n",
       "    </tr>\n",
       "  </tbody>\n",
       "</table>\n",
       "<p>5 rows × 39 columns</p>\n",
       "</div>"
      ],
      "text/plain": [
       "   Unnamed: 0  ObservationID                 Species     Genus       Family  \\\n",
       "0           1          15472          Acer campestre      Acer  Sapindaceae   \n",
       "1           2          15473        Acer platanoides      Acer  Sapindaceae   \n",
       "2           3          15474     Acer pseudoplatanus      Acer  Sapindaceae   \n",
       "3           4          15475  Aesculus hippocastanum  Aesculus  Sapindaceae   \n",
       "4           5          15476         Alnus glutinosa     Alnus   Betulaceae   \n",
       "\n",
       "   Unnamed: 5        X4        X6        X11         X13  ...      X224  \\\n",
       "0           1  0.575278  1.591828  16.555035  467.432582  ...  1.912803   \n",
       "1           2  0.578694  2.684251  18.025933  478.993421  ...  1.926785   \n",
       "2           3  0.565983  3.626007  14.525270  465.678355  ...  1.926318   \n",
       "3           4  0.512497  1.294184  13.685400  476.455478  ...  1.051404   \n",
       "4           5  0.472010  0.650320  15.543528  477.811755  ...  1.327681   \n",
       "\n",
       "        X237        X281         X282         X289        X1080         X3112  \\\n",
       "0  11.633834   18.572872   281.066851   602.987635  2125.125411   1744.813490   \n",
       "1  22.069494   28.253946   244.409216   465.283791  2281.846496   8020.967391   \n",
       "2  17.481870   35.892412   269.923990   625.571232  2912.703245   6559.387661   \n",
       "3  36.273125  149.464337  1912.797150  1978.554979   222.062770  34646.499320   \n",
       "4   2.429191   33.449572   370.340169   576.379892  2939.846214   2572.873819   \n",
       "\n",
       "         X3113         X3114     X3120  \n",
       "0  1814.698241   1986.123466  3.378113  \n",
       "1  6930.279638   9414.095662  2.844882  \n",
       "2  7161.510957   7258.748497  3.102016  \n",
       "3  7422.981332  19558.197900  3.360854  \n",
       "4  2843.044898   2723.491784  3.424225  \n",
       "\n",
       "[5 rows x 39 columns]"
      ]
     },
     "execution_count": 4,
     "metadata": {},
     "output_type": "execute_result"
    }
   ],
   "source": [
    "TRYdata.head()"
   ]
  },
  {
   "cell_type": "markdown",
   "id": "328bd68d",
   "metadata": {},
   "source": [
    "Each row represents one trait measurements performed on one individual plant. To get an idea of the data, look at the shape of the dataframe. We then remove the observations that do not have measurements for out traits of interest, i.e. the ```trait ID``` is ```NaN```."
   ]
  },
  {
   "cell_type": "code",
   "execution_count": 5,
   "id": "66e77271",
   "metadata": {},
   "outputs": [
    {
     "data": {
      "text/plain": [
       "(609355, 39)"
      ]
     },
     "execution_count": 5,
     "metadata": {},
     "output_type": "execute_result"
    }
   ],
   "source": [
    "TRYdata.shape"
   ]
  },
  {
   "cell_type": "code",
   "execution_count": 6,
   "id": "90e4bfbe",
   "metadata": {},
   "outputs": [
    {
     "data": {
      "text/plain": [
       "52104"
      ]
     },
     "execution_count": 6,
     "metadata": {},
     "output_type": "execute_result"
    }
   ],
   "source": [
    "# number of unique species\n",
    "TRYdata[\"Species\"].nunique()"
   ]
  },
  {
   "cell_type": "code",
   "execution_count": 20,
   "id": "9c3e9e3b",
   "metadata": {},
   "outputs": [
    {
     "data": {
      "image/png": "[encoded data removed]",
      "text/plain": [
       "<Figure size 640x480 with 1 Axes>"
      ]
     },
     "metadata": {},
     "output_type": "display_data"
    }
   ],
   "source": [
    "plt.hist(TRYdata[\"X13\"], bins = 500)\n",
    "plt.show()"
   ]
  },
  {
   "cell_type": "markdown",
   "id": "d7cee56a",
   "metadata": {},
   "source": [
    "It seems that there are some outliers in the data. Let's remove them before plotting."
   ]
  },
  {
   "cell_type": "code",
   "execution_count": 19,
   "id": "a24c2431",
   "metadata": {},
   "outputs": [
    {
     "data": {
      "text/plain": [
       "(0.0, 0.787082672)"
      ]
     },
     "execution_count": 19,
     "metadata": {},
     "output_type": "execute_result"
    },
    {
     "data": {
      "image/png": "[encoded data removed]",
      "text/plain": [
       "<Figure size 640x480 with 1 Axes>"
      ]
     },
     "metadata": {},
     "output_type": "display_data"
    }
   ],
   "source": [
    "plt.hist(TRYdata[\"X4\"], bins = 100)\n",
    "#plt.xlim(TRYdata[\"X18\"].quantile(0.05), TRYdata[\"X18\"].quantile(0.95))\n",
    "plt.xlim(0, TRYdata[\"X4\"].quantile(0.95))"
   ]
  },
  {
   "cell_type": "markdown",
   "id": "194dc9b8",
   "metadata": {},
   "source": [
    "Lets remove the outliers of all columns"
   ]
  },
  {
   "cell_type": "code",
   "execution_count": 21,
   "id": "01102eb3",
   "metadata": {},
   "outputs": [],
   "source": [
    "# replace with your actual column names\n",
    "\n",
    "columns = [element for element in TRYdata.columns if \"X\" in element]\n",
    "\n",
    "# Filter data by quantile range for each column\n",
    "for col in columns:\n",
    "    # Calculate lower and upper quantiles for each column\n",
    "    lower_quantile = TRYdata[col].quantile(0.001)\n",
    "    upper_quantile = TRYdata[col].quantile(0.999)\n",
    "\n",
    "    # Filter data by quantile range for each column\n",
    "    TRYdata = TRYdata[(TRYdata[col] >= lower_quantile) & (TRYdata[col] <= upper_quantile)]"
   ]
  },
  {
   "cell_type": "code",
   "execution_count": 25,
   "id": "e1561037",
   "metadata": {},
   "outputs": [
    {
     "data": {
      "image/png": "[encoded data removed]",
      "text/plain": [
       "<Figure size 640x480 with 1 Axes>"
      ]
     },
     "metadata": {},
     "output_type": "display_data"
    }
   ],
   "source": [
    "plt.hist(TRYdata[\"X18\"], bins = 500)\n",
    "plt.show()"
   ]
  },
  {
   "cell_type": "markdown",
   "id": "cd6a9db6",
   "metadata": {},
   "source": [
    "## Fuzzy Aggregation of species names (optional)"
   ]
  },
  {
   "cell_type": "markdown",
   "id": "37d03585",
   "metadata": {},
   "source": [
    "Are there duplicates in the TRY species names? Later, for merging species with the GBIF data, we only need a unique name (string) per species. However, typos, author synonyms or minor differences in spelling result in multiple, very similar text strings that eventually refer to the same species."
   ]
  },
  {
   "cell_type": "markdown",
   "id": "5aafb44d",
   "metadata": {},
   "source": [
    "We therefore remove author annotation from species names, since the data we want to later merge TRY data with - iNaturalist, observations - only have species names without author annotations. "
   ]
  },
  {
   "cell_type": "code",
   "execution_count": 26,
   "id": "d4367973",
   "metadata": {},
   "outputs": [
    {
     "data": {
      "text/plain": [
       "0                 Acer campestre\n",
       "1               Acer platanoides\n",
       "2            Acer pseudoplatanus\n",
       "3         Aesculus hippocastanum\n",
       "4                Alnus glutinosa\n",
       "                   ...          \n",
       "609349         Polygala amarella\n",
       "609351           Juncus tenageia\n",
       "609352           Juncus tenageia\n",
       "609353           Juncus tenageia\n",
       "609354           Juncus tenageia\n",
       "Name: Species, Length: 570382, dtype: object"
      ]
     },
     "execution_count": 26,
     "metadata": {},
     "output_type": "execute_result"
    }
   ],
   "source": [
    "TRYdata[\"Species\"]"
   ]
  },
  {
   "cell_type": "code",
   "execution_count": 27,
   "id": "bcb02891",
   "metadata": {},
   "outputs": [],
   "source": [
    "# make all letters lower case\n",
    "TRYdata['Species'] = TRYdata['Species'].str.lower()\n",
    "# capitalize first letter in string\n",
    "TRYdata['Species'] = TRYdata['Species'].str.capitalize()\n",
    "# get only two first words (split at space)\n",
    "TRYdata['Species']  = TRYdata['Species'].apply(lambda x: ' '.join(x.split()[0:2]))\n",
    "# change type to string\n",
    "TRYdata['Species'] = TRYdata['Species'].astype(str)"
   ]
  },
  {
   "cell_type": "markdown",
   "id": "a084ceaa",
   "metadata": {},
   "source": [
    "Unique species:"
   ]
  },
  {
   "cell_type": "code",
   "execution_count": 28,
   "id": "145ba9de",
   "metadata": {},
   "outputs": [],
   "source": [
    "TRY_sp = TRYdata[\"Species\"].apply(str)\n",
    "TRY_sp = TRY_sp.unique()"
   ]
  },
  {
   "cell_type": "code",
   "execution_count": 29,
   "id": "101ce2e4",
   "metadata": {},
   "outputs": [
    {
     "data": {
      "text/plain": [
       "49572"
      ]
     },
     "execution_count": 29,
     "metadata": {},
     "output_type": "execute_result"
    }
   ],
   "source": [
    "len(TRY_sp)"
   ]
  },
  {
   "cell_type": "markdown",
   "id": "dccf4358",
   "metadata": {},
   "source": [
    "Moreover, we use fuzzy matching to identify similar species names in the TRY dataset. We use the rapidfuzz library to calculate the similarity between species names."
   ]
  },
  {
   "cell_type": "code",
   "execution_count": 30,
   "id": "e0b1fe67",
   "metadata": {},
   "outputs": [],
   "source": [
    "def fuzzy_match(choices, queries, cutoff):\n",
    "    \n",
    "    score_sort = [(x,) + i\n",
    "             for x in queries\n",
    "             for i in process.extract(x, choices, score_cutoff=cutoff, scorer=fuzz.token_sort_ratio) ]\n",
    "    \n",
    "    similarity_sort = pd.DataFrame(score_sort)\n",
    "    similarity_sort = similarity_sort[similarity_sort[2] != 100.0]\n",
    "    return similarity_sort"
   ]
  },
  {
   "cell_type": "code",
   "execution_count": 31,
   "id": "ee766fb7",
   "metadata": {},
   "outputs": [],
   "source": [
    "TRY_matches = fuzzy_match(TRY_sp, TRY_sp, 95)"
   ]
  },
  {
   "cell_type": "code",
   "execution_count": 32,
   "id": "d0881bb0",
   "metadata": {},
   "outputs": [
    {
     "data": {
      "text/html": [
       "<div>\n",
       "<style scoped>\n",
       "    .dataframe tbody tr th:only-of-type {\n",
       "        vertical-align: middle;\n",
       "    }\n",
       "\n",
       "    .dataframe tbody tr th {\n",
       "        vertical-align: top;\n",
       "    }\n",
       "\n",
       "    .dataframe thead th {\n",
       "        text-align: right;\n",
       "    }\n",
       "</style>\n",
       "<table border=\"1\" class=\"dataframe\">\n",
       "  <thead>\n",
       "    <tr style=\"text-align: right;\">\n",
       "      <th></th>\n",
       "      <th>0</th>\n",
       "      <th>1</th>\n",
       "      <th>2</th>\n",
       "      <th>3</th>\n",
       "    </tr>\n",
       "  </thead>\n",
       "  <tbody>\n",
       "    <tr>\n",
       "      <th>45</th>\n",
       "      <td>Pistacia terebinthus</td>\n",
       "      <td>Pistacia therebinthus</td>\n",
       "      <td>97.560976</td>\n",
       "      <td>46989</td>\n",
       "    </tr>\n",
       "    <tr>\n",
       "      <th>67</th>\n",
       "      <td>Rosmarinus officinalis</td>\n",
       "      <td>Rosmarinus officilis</td>\n",
       "      <td>95.238095</td>\n",
       "      <td>48563</td>\n",
       "    </tr>\n",
       "    <tr>\n",
       "      <th>77</th>\n",
       "      <td>Symphoricarpos albus</td>\n",
       "      <td>Symphoricarpus albus</td>\n",
       "      <td>95.000000</td>\n",
       "      <td>45110</td>\n",
       "    </tr>\n",
       "    <tr>\n",
       "      <th>125</th>\n",
       "      <td>Chionochloa rigida</td>\n",
       "      <td>Chionochloa frigida</td>\n",
       "      <td>97.297297</td>\n",
       "      <td>37733</td>\n",
       "    </tr>\n",
       "    <tr>\n",
       "      <th>133</th>\n",
       "      <td>Unidentified species</td>\n",
       "      <td>Unidentified species:</td>\n",
       "      <td>97.560976</td>\n",
       "      <td>200</td>\n",
       "    </tr>\n",
       "  </tbody>\n",
       "</table>\n",
       "</div>"
      ],
      "text/plain": [
       "                          0                      1          2      3\n",
       "45     Pistacia terebinthus  Pistacia therebinthus  97.560976  46989\n",
       "67   Rosmarinus officinalis   Rosmarinus officilis  95.238095  48563\n",
       "77     Symphoricarpos albus   Symphoricarpus albus  95.000000  45110\n",
       "125      Chionochloa rigida    Chionochloa frigida  97.297297  37733\n",
       "133    Unidentified species  Unidentified species:  97.560976    200"
      ]
     },
     "execution_count": 32,
     "metadata": {},
     "output_type": "execute_result"
    }
   ],
   "source": [
    "TRY_matches.head()"
   ]
  },
  {
   "cell_type": "code",
   "execution_count": 33,
   "id": "1f22bfe9",
   "metadata": {},
   "outputs": [
    {
     "data": {
      "text/plain": [
       "589"
      ]
     },
     "execution_count": 33,
     "metadata": {},
     "output_type": "execute_result"
    }
   ],
   "source": [
    "TRY_matches[0].nunique()"
   ]
  },
  {
   "cell_type": "markdown",
   "id": "6e5ffce3",
   "metadata": {},
   "source": [
    "Only 0.5% of unique species in TRY have potential duplicates (similar names). We decided to diregard this slight uncertainty and accepted that these species might not be matched to the iNaturalist observations.\n",
    "\n",
    "We devide the number for matches by 2, since every pair is listed twice (positions switched)."
   ]
  },
  {
   "cell_type": "code",
   "execution_count": 34,
   "id": "641b3b06",
   "metadata": {},
   "outputs": [
    {
     "data": {
      "text/plain": [
       "0.0060518034374243525"
      ]
     },
     "execution_count": 34,
     "metadata": {},
     "output_type": "execute_result"
    }
   ],
   "source": [
    "(len(TRY_matches)/2)/len(TRY_sp)"
   ]
  },
  {
   "cell_type": "markdown",
   "id": "a0090706",
   "metadata": {},
   "source": [
    "## Mean trait measurement per species"
   ]
  },
  {
   "cell_type": "markdown",
   "id": "1b01295b",
   "metadata": {},
   "source": [
    "Here we create a dataframe with one species per row with a mean trait value and standard deviations for each trait in the following columns."
   ]
  },
  {
   "cell_type": "markdown",
   "id": "713e4a64",
   "metadata": {},
   "source": [
    "Number of unique species:"
   ]
  },
  {
   "cell_type": "code",
   "execution_count": 35,
   "id": "c870fa4c",
   "metadata": {},
   "outputs": [
    {
     "data": {
      "text/plain": [
       "49572"
      ]
     },
     "execution_count": 35,
     "metadata": {},
     "output_type": "execute_result"
    }
   ],
   "source": [
    "TRYdata['Species'].nunique()"
   ]
  },
  {
   "cell_type": "markdown",
   "id": "f66a21a2",
   "metadata": {},
   "source": [
    "### Create summary stats with consolidated species name"
   ]
  },
  {
   "cell_type": "markdown",
   "id": "b95cd6be",
   "metadata": {},
   "source": [
    "Use ```groupby``` function to group data by consolidated species name and trait; grouping variables: ```AccSpeciesName, TraitName, TraitID```.\n",
    "\n",
    "More information: https://www.tutorialspoint.com/python_pandas/python_pandas_groupby.htm"
   ]
  },
  {
   "cell_type": "code",
   "execution_count": 36,
   "id": "bff78556",
   "metadata": {},
   "outputs": [],
   "source": [
    "columns = [element for element in TRYdata.columns if \"X\" in element]\n",
    "TRYgroup = TRYdata.groupby('Species')[columns].agg([\"mean\"]).reset_index() # use reset index to keep the column used for grouping as column name and not as index\n",
    "# (we could also calculate the standard deviation (std) and other statistical moments ... could be interesting for some research questions)"
   ]
  },
  {
   "cell_type": "code",
   "execution_count": 37,
   "id": "21562f2a",
   "metadata": {},
   "outputs": [
    {
     "data": {
      "text/html": [
       "<div>\n",
       "<style scoped>\n",
       "    .dataframe tbody tr th:only-of-type {\n",
       "        vertical-align: middle;\n",
       "    }\n",
       "\n",
       "    .dataframe tbody tr th {\n",
       "        vertical-align: top;\n",
       "    }\n",
       "\n",
       "    .dataframe thead tr th {\n",
       "        text-align: left;\n",
       "    }\n",
       "</style>\n",
       "<table border=\"1\" class=\"dataframe\">\n",
       "  <thead>\n",
       "    <tr>\n",
       "      <th></th>\n",
       "      <th>Species</th>\n",
       "      <th>X4</th>\n",
       "      <th>X6</th>\n",
       "      <th>X11</th>\n",
       "      <th>X13</th>\n",
       "      <th>X14</th>\n",
       "      <th>X15</th>\n",
       "      <th>X18</th>\n",
       "      <th>X21</th>\n",
       "      <th>X26</th>\n",
       "      <th>...</th>\n",
       "      <th>X224</th>\n",
       "      <th>X237</th>\n",
       "      <th>X281</th>\n",
       "      <th>X282</th>\n",
       "      <th>X289</th>\n",
       "      <th>X1080</th>\n",
       "      <th>X3112</th>\n",
       "      <th>X3113</th>\n",
       "      <th>X3114</th>\n",
       "      <th>X3120</th>\n",
       "    </tr>\n",
       "    <tr>\n",
       "      <th></th>\n",
       "      <th></th>\n",
       "      <th>mean</th>\n",
       "      <th>mean</th>\n",
       "      <th>mean</th>\n",
       "      <th>mean</th>\n",
       "      <th>mean</th>\n",
       "      <th>mean</th>\n",
       "      <th>mean</th>\n",
       "      <th>mean</th>\n",
       "      <th>mean</th>\n",
       "      <th>...</th>\n",
       "      <th>mean</th>\n",
       "      <th>mean</th>\n",
       "      <th>mean</th>\n",
       "      <th>mean</th>\n",
       "      <th>mean</th>\n",
       "      <th>mean</th>\n",
       "      <th>mean</th>\n",
       "      <th>mean</th>\n",
       "      <th>mean</th>\n",
       "      <th>mean</th>\n",
       "    </tr>\n",
       "  </thead>\n",
       "  <tbody>\n",
       "    <tr>\n",
       "      <th>0</th>\n",
       "      <td>Aaronsohnia pubescens</td>\n",
       "      <td>0.486141</td>\n",
       "      <td>0.599528</td>\n",
       "      <td>16.718827</td>\n",
       "      <td>437.285876</td>\n",
       "      <td>19.528472</td>\n",
       "      <td>1.593238</td>\n",
       "      <td>0.201538</td>\n",
       "      <td>0.009885</td>\n",
       "      <td>0.668115</td>\n",
       "      <td>...</td>\n",
       "      <td>4.959702</td>\n",
       "      <td>2.990646</td>\n",
       "      <td>27.827261</td>\n",
       "      <td>423.785320</td>\n",
       "      <td>826.012763</td>\n",
       "      <td>4687.727659</td>\n",
       "      <td>382.471068</td>\n",
       "      <td>401.876664</td>\n",
       "      <td>392.094266</td>\n",
       "      <td>5.076392</td>\n",
       "    </tr>\n",
       "    <tr>\n",
       "      <th>1</th>\n",
       "      <td>Abacaba (palm)</td>\n",
       "      <td>0.671823</td>\n",
       "      <td>2.188646</td>\n",
       "      <td>13.752224</td>\n",
       "      <td>474.569278</td>\n",
       "      <td>25.325213</td>\n",
       "      <td>1.253182</td>\n",
       "      <td>8.429638</td>\n",
       "      <td>0.231325</td>\n",
       "      <td>46.814951</td>\n",
       "      <td>...</td>\n",
       "      <td>2.479627</td>\n",
       "      <td>5.936477</td>\n",
       "      <td>38.547778</td>\n",
       "      <td>286.838857</td>\n",
       "      <td>806.185129</td>\n",
       "      <td>1540.977178</td>\n",
       "      <td>1629.962999</td>\n",
       "      <td>991.632159</td>\n",
       "      <td>1292.580095</td>\n",
       "      <td>2.645555</td>\n",
       "    </tr>\n",
       "    <tr>\n",
       "      <th>2</th>\n",
       "      <td>Abarema adenophora</td>\n",
       "      <td>0.657763</td>\n",
       "      <td>0.727078</td>\n",
       "      <td>11.292982</td>\n",
       "      <td>525.642849</td>\n",
       "      <td>24.622563</td>\n",
       "      <td>1.395954</td>\n",
       "      <td>32.482211</td>\n",
       "      <td>0.362295</td>\n",
       "      <td>131.898894</td>\n",
       "      <td>...</td>\n",
       "      <td>2.523944</td>\n",
       "      <td>7.737082</td>\n",
       "      <td>54.781219</td>\n",
       "      <td>1040.180387</td>\n",
       "      <td>2059.689153</td>\n",
       "      <td>918.104083</td>\n",
       "      <td>15627.632490</td>\n",
       "      <td>1543.092430</td>\n",
       "      <td>10016.868768</td>\n",
       "      <td>1.925418</td>\n",
       "    </tr>\n",
       "    <tr>\n",
       "      <th>3</th>\n",
       "      <td>Abarema adenophorum</td>\n",
       "      <td>0.373883</td>\n",
       "      <td>0.487666</td>\n",
       "      <td>14.205463</td>\n",
       "      <td>492.190726</td>\n",
       "      <td>29.024637</td>\n",
       "      <td>1.046841</td>\n",
       "      <td>23.271589</td>\n",
       "      <td>0.204930</td>\n",
       "      <td>96.355248</td>\n",
       "      <td>...</td>\n",
       "      <td>2.667201</td>\n",
       "      <td>6.954843</td>\n",
       "      <td>45.745568</td>\n",
       "      <td>715.537425</td>\n",
       "      <td>1426.905190</td>\n",
       "      <td>1111.750790</td>\n",
       "      <td>5530.627109</td>\n",
       "      <td>2805.067978</td>\n",
       "      <td>3127.058669</td>\n",
       "      <td>2.313586</td>\n",
       "    </tr>\n",
       "    <tr>\n",
       "      <th>4</th>\n",
       "      <td>Abarema alexandri</td>\n",
       "      <td>0.561525</td>\n",
       "      <td>0.676757</td>\n",
       "      <td>13.221454</td>\n",
       "      <td>492.933836</td>\n",
       "      <td>27.439778</td>\n",
       "      <td>0.935064</td>\n",
       "      <td>16.906838</td>\n",
       "      <td>0.242243</td>\n",
       "      <td>71.790336</td>\n",
       "      <td>...</td>\n",
       "      <td>2.512018</td>\n",
       "      <td>6.061004</td>\n",
       "      <td>42.442453</td>\n",
       "      <td>628.429257</td>\n",
       "      <td>1390.248537</td>\n",
       "      <td>1108.703464</td>\n",
       "      <td>2445.241045</td>\n",
       "      <td>672.598456</td>\n",
       "      <td>1450.214849</td>\n",
       "      <td>2.076229</td>\n",
       "    </tr>\n",
       "  </tbody>\n",
       "</table>\n",
       "<p>5 rows × 34 columns</p>\n",
       "</div>"
      ],
      "text/plain": [
       "                 Species        X4        X6        X11         X13  \\\n",
       "                              mean      mean       mean        mean   \n",
       "0  Aaronsohnia pubescens  0.486141  0.599528  16.718827  437.285876   \n",
       "1         Abacaba (palm)  0.671823  2.188646  13.752224  474.569278   \n",
       "2     Abarema adenophora  0.657763  0.727078  11.292982  525.642849   \n",
       "3    Abarema adenophorum  0.373883  0.487666  14.205463  492.190726   \n",
       "4      Abarema alexandri  0.561525  0.676757  13.221454  492.933836   \n",
       "\n",
       "         X14       X15        X18       X21         X26  ...      X224  \\\n",
       "        mean      mean       mean      mean        mean  ...      mean   \n",
       "0  19.528472  1.593238   0.201538  0.009885    0.668115  ...  4.959702   \n",
       "1  25.325213  1.253182   8.429638  0.231325   46.814951  ...  2.479627   \n",
       "2  24.622563  1.395954  32.482211  0.362295  131.898894  ...  2.523944   \n",
       "3  29.024637  1.046841  23.271589  0.204930   96.355248  ...  2.667201   \n",
       "4  27.439778  0.935064  16.906838  0.242243   71.790336  ...  2.512018   \n",
       "\n",
       "       X237       X281         X282         X289        X1080         X3112  \\\n",
       "       mean       mean         mean         mean         mean          mean   \n",
       "0  2.990646  27.827261   423.785320   826.012763  4687.727659    382.471068   \n",
       "1  5.936477  38.547778   286.838857   806.185129  1540.977178   1629.962999   \n",
       "2  7.737082  54.781219  1040.180387  2059.689153   918.104083  15627.632490   \n",
       "3  6.954843  45.745568   715.537425  1426.905190  1111.750790   5530.627109   \n",
       "4  6.061004  42.442453   628.429257  1390.248537  1108.703464   2445.241045   \n",
       "\n",
       "         X3113         X3114     X3120  \n",
       "          mean          mean      mean  \n",
       "0   401.876664    392.094266  5.076392  \n",
       "1   991.632159   1292.580095  2.645555  \n",
       "2  1543.092430  10016.868768  1.925418  \n",
       "3  2805.067978   3127.058669  2.313586  \n",
       "4   672.598456   1450.214849  2.076229  \n",
       "\n",
       "[5 rows x 34 columns]"
      ]
     },
     "execution_count": 37,
     "metadata": {},
     "output_type": "execute_result"
    }
   ],
   "source": [
    "TRYgroup.head()"
   ]
  },
  {
   "cell_type": "markdown",
   "id": "4e90b909",
   "metadata": {},
   "source": [
    "Lets see if the aggregation worked:"
   ]
  },
  {
   "cell_type": "code",
   "execution_count": 31,
   "id": "848cecfa",
   "metadata": {},
   "outputs": [
    {
     "data": {
      "image/png": "[encoded data removed]",
      "text/plain": [
       "<Figure size 640x480 with 3 Axes>"
      ]
     },
     "metadata": {},
     "output_type": "display_data"
    }
   ],
   "source": [
    "fig, axs = plt.subplots(1, 3, sharey=True, tight_layout=True)\n",
    "\n",
    "axs[0].hist(TRYgroup.loc[TRYgroup['Species'].str.contains('Quercus'), ('X18',\"mean\")], bins = 20)\n",
    "axs[0].set_title('Quercus spec.')\n",
    "\n",
    "axs[1].hist(TRYgroup.loc[TRYgroup['Species'].str.contains('Poa'), ('X18',\"mean\")], bins = 20)\n",
    "axs[1].set_title('Taraxacum spec.')\n",
    "\n",
    "axs[2].hist(TRYgroup.loc[TRYgroup['Species'].str.contains('Rosa'), ('X18',\"mean\")], bins = 20)\n",
    "axs[2].set_title('Taraxacum spec.')\n",
    "\n",
    "plt.show()"
   ]
  },
  {
   "cell_type": "code",
   "execution_count": 32,
   "id": "702bf309",
   "metadata": {},
   "outputs": [],
   "source": [
    "def shorten_names(df):\n",
    "    rename_dict = {\n",
    "        'X4': 'Stem specific density (SSD)',\n",
    "        'X13': 'Leaf carbon (C) per mass',\n",
    "        'X14': 'Leaf nitrogen (N) per mass',\n",
    "        'X15': 'Leaf phosphorus (P) per mass',\n",
    "        'X47': 'Leaf dry mass per leaf fresh mass (LDMC)',\n",
    "        'X26': 'Seed mass',\n",
    "        'X27': 'Seed length',\n",
    "        'X50': 'Leaf nitrogen (N) per area',\n",
    "        'X65': 'Leaf nitrogen/phosphorus (N/P)',\n",
    "        'X78': 'Leaf delta15N',\n",
    "        'X163': 'Leaf fresh mass',\n",
    "        'X138': 'Seeds per rep. unit',\n",
    "        'X169': 'Stem conduit density',\n",
    "        'X237': 'Dispersal unit length',\n",
    "        'X282': 'Conduit element length',\n",
    "        'X18': 'Plant Height',\n",
    "        'X3113': 'Leaf Area (leaf, petiole undef.)',\n",
    "        'X3112': 'Leaf Area (leaflet, petiole undef.)',\n",
    "        'X11': 'Specific Leaf Area (SLA)',\n",
    "        'X3114': 'Leaf Area (all undefined)',\n",
    "        'X6': 'Root rooting depth',\n",
    "        'X1080': 'Root length per root dry mass',\n",
    "        'X3120': 'Leaf Water content per mass',\n",
    "        'X21': 'Seed diameter',\n",
    "        'X46': 'Leaf thickness',\n",
    "        'X55': 'Leaf dry mass per leaf',\n",
    "        'X95': 'Seed germination rate',\n",
    "        'X144': 'Leaf length',\n",
    "        'X145': 'Leaf width',\n",
    "        'X146': 'Leaf carbon/nitrogen (C/N) ratio',\n",
    "        'X223': 'chromosome number',\n",
    "        'X224': 'chromosome cDNA content',\n",
    "        'X281': 'Stem conduit diameter',\n",
    "        'X289': 'Wood fibre length'\n",
    "    }\n",
    "\n",
    "    df.rename(columns=rename_dict, inplace=True)"
   ]
  },
  {
   "cell_type": "code",
   "execution_count": 33,
   "id": "b38056e8",
   "metadata": {},
   "outputs": [],
   "source": [
    "shorten_names(TRYgroup)"
   ]
  },
  {
   "cell_type": "code",
   "execution_count": 34,
   "id": "705791d6",
   "metadata": {},
   "outputs": [
    {
     "data": {
      "text/html": [
       "<div>\n",
       "<style scoped>\n",
       "    .dataframe tbody tr th:only-of-type {\n",
       "        vertical-align: middle;\n",
       "    }\n",
       "\n",
       "    .dataframe tbody tr th {\n",
       "        vertical-align: top;\n",
       "    }\n",
       "\n",
       "    .dataframe thead tr th {\n",
       "        text-align: left;\n",
       "    }\n",
       "</style>\n",
       "<table border=\"1\" class=\"dataframe\">\n",
       "  <thead>\n",
       "    <tr>\n",
       "      <th></th>\n",
       "      <th>Species</th>\n",
       "      <th>Stem specific density (SSD)</th>\n",
       "      <th>Root rooting depth</th>\n",
       "      <th>Specific Leaf Area (SLA)</th>\n",
       "      <th>Leaf carbon (C) per mass</th>\n",
       "      <th>Leaf nitrogen (N) per mass</th>\n",
       "      <th>Leaf phosphorus (P) per mass</th>\n",
       "      <th>Plant Height</th>\n",
       "      <th>Seed diameter</th>\n",
       "      <th>Seed mass</th>\n",
       "      <th>Seed length</th>\n",
       "      <th>Leaf thickness</th>\n",
       "      <th>Leaf dry mass per leaf fresh mass (LDMC)</th>\n",
       "      <th>Leaf nitrogen (N) per area</th>\n",
       "      <th>Leaf dry mass per leaf</th>\n",
       "      <th>Leaf delta15N</th>\n",
       "      <th>Seed germination rate</th>\n",
       "      <th>Seeds per rep. unit</th>\n",
       "      <th>Leaf length</th>\n",
       "      <th>Leaf width</th>\n",
       "      <th>Leaf carbon/nitrogen (C/N) ratio</th>\n",
       "      <th>Leaf fresh mass</th>\n",
       "      <th>Stem conduit density</th>\n",
       "      <th>chromosome number</th>\n",
       "      <th>chromosome cDNA content</th>\n",
       "      <th>Dispersal unit length</th>\n",
       "      <th>Stem conduit diameter</th>\n",
       "      <th>Conduit element length</th>\n",
       "      <th>Wood fibre length</th>\n",
       "      <th>Root length per root dry mass</th>\n",
       "      <th>Leaf Area (leaflet, petiole undef.)</th>\n",
       "      <th>Leaf Area (leaf, petiole undef.)</th>\n",
       "      <th>Leaf Area (all undefined)</th>\n",
       "      <th>Leaf Water content per mass</th>\n",
       "    </tr>\n",
       "    <tr>\n",
       "      <th></th>\n",
       "      <th></th>\n",
       "      <th>mean</th>\n",
       "      <th>mean</th>\n",
       "      <th>mean</th>\n",
       "      <th>mean</th>\n",
       "      <th>mean</th>\n",
       "      <th>mean</th>\n",
       "      <th>mean</th>\n",
       "      <th>mean</th>\n",
       "      <th>mean</th>\n",
       "      <th>mean</th>\n",
       "      <th>mean</th>\n",
       "      <th>mean</th>\n",
       "      <th>mean</th>\n",
       "      <th>mean</th>\n",
       "      <th>mean</th>\n",
       "      <th>mean</th>\n",
       "      <th>mean</th>\n",
       "      <th>mean</th>\n",
       "      <th>mean</th>\n",
       "      <th>mean</th>\n",
       "      <th>mean</th>\n",
       "      <th>mean</th>\n",
       "      <th>mean</th>\n",
       "      <th>mean</th>\n",
       "      <th>mean</th>\n",
       "      <th>mean</th>\n",
       "      <th>mean</th>\n",
       "      <th>mean</th>\n",
       "      <th>mean</th>\n",
       "      <th>mean</th>\n",
       "      <th>mean</th>\n",
       "      <th>mean</th>\n",
       "      <th>mean</th>\n",
       "    </tr>\n",
       "  </thead>\n",
       "  <tbody>\n",
       "    <tr>\n",
       "      <th>0</th>\n",
       "      <td>ABACABA (PALM)</td>\n",
       "      <td>0.671823</td>\n",
       "      <td>2.188646</td>\n",
       "      <td>13.752224</td>\n",
       "      <td>474.569278</td>\n",
       "      <td>25.325213</td>\n",
       "      <td>1.253182</td>\n",
       "      <td>8.429638</td>\n",
       "      <td>0.231325</td>\n",
       "      <td>46.814951</td>\n",
       "      <td>5.111551</td>\n",
       "      <td>0.193238</td>\n",
       "      <td>0.357516</td>\n",
       "      <td>1.920918</td>\n",
       "      <td>126.367834</td>\n",
       "      <td>2.600829</td>\n",
       "      <td>88.772969</td>\n",
       "      <td>101.144897</td>\n",
       "      <td>42.438202</td>\n",
       "      <td>1.722516</td>\n",
       "      <td>19.759657</td>\n",
       "      <td>0.355476</td>\n",
       "      <td>12.827875</td>\n",
       "      <td>19.334698</td>\n",
       "      <td>2.479627</td>\n",
       "      <td>5.936477</td>\n",
       "      <td>38.547778</td>\n",
       "      <td>286.838857</td>\n",
       "      <td>806.185129</td>\n",
       "      <td>1540.977178</td>\n",
       "      <td>1629.962999</td>\n",
       "      <td>991.632159</td>\n",
       "      <td>1292.580095</td>\n",
       "      <td>2.645555</td>\n",
       "    </tr>\n",
       "    <tr>\n",
       "      <th>1</th>\n",
       "      <td>ABIU CASCA</td>\n",
       "      <td>0.496978</td>\n",
       "      <td>0.895004</td>\n",
       "      <td>6.247421</td>\n",
       "      <td>500.148092</td>\n",
       "      <td>12.696800</td>\n",
       "      <td>1.144893</td>\n",
       "      <td>13.550313</td>\n",
       "      <td>0.381413</td>\n",
       "      <td>17.222438</td>\n",
       "      <td>6.203804</td>\n",
       "      <td>0.576214</td>\n",
       "      <td>0.427767</td>\n",
       "      <td>2.115837</td>\n",
       "      <td>23.666171</td>\n",
       "      <td>-1.242961</td>\n",
       "      <td>76.910685</td>\n",
       "      <td>68391.827378</td>\n",
       "      <td>39.667725</td>\n",
       "      <td>0.153220</td>\n",
       "      <td>40.034259</td>\n",
       "      <td>0.056172</td>\n",
       "      <td>240.071431</td>\n",
       "      <td>28.219718</td>\n",
       "      <td>30.945200</td>\n",
       "      <td>11.971509</td>\n",
       "      <td>12.890332</td>\n",
       "      <td>790.671776</td>\n",
       "      <td>1499.280739</td>\n",
       "      <td>1884.325418</td>\n",
       "      <td>127.191046</td>\n",
       "      <td>164.447038</td>\n",
       "      <td>134.333586</td>\n",
       "      <td>2.325147</td>\n",
       "    </tr>\n",
       "    <tr>\n",
       "      <th>2</th>\n",
       "      <td>ABIU CUTITI</td>\n",
       "      <td>0.477223</td>\n",
       "      <td>0.944608</td>\n",
       "      <td>6.634051</td>\n",
       "      <td>497.942213</td>\n",
       "      <td>11.877977</td>\n",
       "      <td>1.194187</td>\n",
       "      <td>13.245605</td>\n",
       "      <td>0.157332</td>\n",
       "      <td>15.917046</td>\n",
       "      <td>6.483486</td>\n",
       "      <td>0.535115</td>\n",
       "      <td>0.437869</td>\n",
       "      <td>1.822508</td>\n",
       "      <td>21.963576</td>\n",
       "      <td>-1.988056</td>\n",
       "      <td>77.025511</td>\n",
       "      <td>54988.152690</td>\n",
       "      <td>46.751848</td>\n",
       "      <td>0.161482</td>\n",
       "      <td>40.335997</td>\n",
       "      <td>0.051418</td>\n",
       "      <td>264.049869</td>\n",
       "      <td>27.246032</td>\n",
       "      <td>28.611930</td>\n",
       "      <td>11.138268</td>\n",
       "      <td>14.919169</td>\n",
       "      <td>777.428052</td>\n",
       "      <td>1436.118489</td>\n",
       "      <td>2397.983455</td>\n",
       "      <td>126.666144</td>\n",
       "      <td>179.955887</td>\n",
       "      <td>155.449882</td>\n",
       "      <td>2.269552</td>\n",
       "    </tr>\n",
       "    <tr>\n",
       "      <th>3</th>\n",
       "      <td>ABIU PITOMBA</td>\n",
       "      <td>0.526880</td>\n",
       "      <td>1.117702</td>\n",
       "      <td>6.008566</td>\n",
       "      <td>499.808617</td>\n",
       "      <td>12.514770</td>\n",
       "      <td>1.147831</td>\n",
       "      <td>14.294867</td>\n",
       "      <td>0.708226</td>\n",
       "      <td>17.327678</td>\n",
       "      <td>5.802094</td>\n",
       "      <td>0.594831</td>\n",
       "      <td>0.427566</td>\n",
       "      <td>2.222912</td>\n",
       "      <td>25.258249</td>\n",
       "      <td>-1.187598</td>\n",
       "      <td>76.352712</td>\n",
       "      <td>55661.691850</td>\n",
       "      <td>32.083085</td>\n",
       "      <td>0.145700</td>\n",
       "      <td>40.653066</td>\n",
       "      <td>0.058920</td>\n",
       "      <td>232.899226</td>\n",
       "      <td>27.738457</td>\n",
       "      <td>28.940369</td>\n",
       "      <td>12.007877</td>\n",
       "      <td>12.938410</td>\n",
       "      <td>819.450661</td>\n",
       "      <td>1483.106728</td>\n",
       "      <td>1452.674352</td>\n",
       "      <td>121.175669</td>\n",
       "      <td>165.365746</td>\n",
       "      <td>129.872318</td>\n",
       "      <td>2.173392</td>\n",
       "    </tr>\n",
       "    <tr>\n",
       "      <th>4</th>\n",
       "      <td>ACAENA NOVAE-ZELANDIAE</td>\n",
       "      <td>0.604919</td>\n",
       "      <td>0.061492</td>\n",
       "      <td>19.541665</td>\n",
       "      <td>463.533962</td>\n",
       "      <td>22.480895</td>\n",
       "      <td>1.573733</td>\n",
       "      <td>0.148318</td>\n",
       "      <td>0.016437</td>\n",
       "      <td>1.394972</td>\n",
       "      <td>1.920817</td>\n",
       "      <td>0.170596</td>\n",
       "      <td>0.350158</td>\n",
       "      <td>1.240341</td>\n",
       "      <td>31.200189</td>\n",
       "      <td>-1.033801</td>\n",
       "      <td>99.632659</td>\n",
       "      <td>17.913188</td>\n",
       "      <td>32.640273</td>\n",
       "      <td>2.644008</td>\n",
       "      <td>22.515475</td>\n",
       "      <td>0.094327</td>\n",
       "      <td>168.579375</td>\n",
       "      <td>40.779770</td>\n",
       "      <td>0.842433</td>\n",
       "      <td>2.766139</td>\n",
       "      <td>36.771047</td>\n",
       "      <td>492.019265</td>\n",
       "      <td>639.806141</td>\n",
       "      <td>2438.558694</td>\n",
       "      <td>634.997968</td>\n",
       "      <td>480.992218</td>\n",
       "      <td>673.851300</td>\n",
       "      <td>3.033819</td>\n",
       "    </tr>\n",
       "  </tbody>\n",
       "</table>\n",
       "</div>"
      ],
      "text/plain": [
       "                  Species Stem specific density (SSD) Root rooting depth  \\\n",
       "                                                 mean               mean   \n",
       "0          ABACABA (PALM)                    0.671823           2.188646   \n",
       "1              ABIU CASCA                    0.496978           0.895004   \n",
       "2             ABIU CUTITI                    0.477223           0.944608   \n",
       "3            ABIU PITOMBA                    0.526880           1.117702   \n",
       "4  ACAENA NOVAE-ZELANDIAE                    0.604919           0.061492   \n",
       "\n",
       "  Specific Leaf Area (SLA) Leaf carbon (C) per mass  \\\n",
       "                      mean                     mean   \n",
       "0                13.752224               474.569278   \n",
       "1                 6.247421               500.148092   \n",
       "2                 6.634051               497.942213   \n",
       "3                 6.008566               499.808617   \n",
       "4                19.541665               463.533962   \n",
       "\n",
       "  Leaf nitrogen (N) per mass Leaf phosphorus (P) per mass Plant Height  \\\n",
       "                        mean                         mean         mean   \n",
       "0                  25.325213                     1.253182     8.429638   \n",
       "1                  12.696800                     1.144893    13.550313   \n",
       "2                  11.877977                     1.194187    13.245605   \n",
       "3                  12.514770                     1.147831    14.294867   \n",
       "4                  22.480895                     1.573733     0.148318   \n",
       "\n",
       "  Seed diameter  Seed mass Seed length Leaf thickness  \\\n",
       "           mean       mean        mean           mean   \n",
       "0      0.231325  46.814951    5.111551       0.193238   \n",
       "1      0.381413  17.222438    6.203804       0.576214   \n",
       "2      0.157332  15.917046    6.483486       0.535115   \n",
       "3      0.708226  17.327678    5.802094       0.594831   \n",
       "4      0.016437   1.394972    1.920817       0.170596   \n",
       "\n",
       "  Leaf dry mass per leaf fresh mass (LDMC) Leaf nitrogen (N) per area  \\\n",
       "                                      mean                       mean   \n",
       "0                                 0.357516                   1.920918   \n",
       "1                                 0.427767                   2.115837   \n",
       "2                                 0.437869                   1.822508   \n",
       "3                                 0.427566                   2.222912   \n",
       "4                                 0.350158                   1.240341   \n",
       "\n",
       "  Leaf dry mass per leaf Leaf delta15N Seed germination rate  \\\n",
       "                    mean          mean                  mean   \n",
       "0             126.367834      2.600829             88.772969   \n",
       "1              23.666171     -1.242961             76.910685   \n",
       "2              21.963576     -1.988056             77.025511   \n",
       "3              25.258249     -1.187598             76.352712   \n",
       "4              31.200189     -1.033801             99.632659   \n",
       "\n",
       "  Seeds per rep. unit Leaf length Leaf width Leaf carbon/nitrogen (C/N) ratio  \\\n",
       "                 mean        mean       mean                             mean   \n",
       "0          101.144897   42.438202   1.722516                        19.759657   \n",
       "1        68391.827378   39.667725   0.153220                        40.034259   \n",
       "2        54988.152690   46.751848   0.161482                        40.335997   \n",
       "3        55661.691850   32.083085   0.145700                        40.653066   \n",
       "4           17.913188   32.640273   2.644008                        22.515475   \n",
       "\n",
       "  Leaf fresh mass Stem conduit density chromosome number  \\\n",
       "             mean                 mean              mean   \n",
       "0        0.355476            12.827875         19.334698   \n",
       "1        0.056172           240.071431         28.219718   \n",
       "2        0.051418           264.049869         27.246032   \n",
       "3        0.058920           232.899226         27.738457   \n",
       "4        0.094327           168.579375         40.779770   \n",
       "\n",
       "  chromosome cDNA content Dispersal unit length Stem conduit diameter  \\\n",
       "                     mean                  mean                  mean   \n",
       "0                2.479627              5.936477             38.547778   \n",
       "1               30.945200             11.971509             12.890332   \n",
       "2               28.611930             11.138268             14.919169   \n",
       "3               28.940369             12.007877             12.938410   \n",
       "4                0.842433              2.766139             36.771047   \n",
       "\n",
       "  Conduit element length Wood fibre length Root length per root dry mass  \\\n",
       "                    mean              mean                          mean   \n",
       "0             286.838857        806.185129                   1540.977178   \n",
       "1             790.671776       1499.280739                   1884.325418   \n",
       "2             777.428052       1436.118489                   2397.983455   \n",
       "3             819.450661       1483.106728                   1452.674352   \n",
       "4             492.019265        639.806141                   2438.558694   \n",
       "\n",
       "  Leaf Area (leaflet, petiole undef.) Leaf Area (leaf, petiole undef.)  \\\n",
       "                                 mean                             mean   \n",
       "0                         1629.962999                       991.632159   \n",
       "1                          127.191046                       164.447038   \n",
       "2                          126.666144                       179.955887   \n",
       "3                          121.175669                       165.365746   \n",
       "4                          634.997968                       480.992218   \n",
       "\n",
       "  Leaf Area (all undefined) Leaf Water content per mass  \n",
       "                       mean                        mean  \n",
       "0               1292.580095                    2.645555  \n",
       "1                134.333586                    2.325147  \n",
       "2                155.449882                    2.269552  \n",
       "3                129.872318                    2.173392  \n",
       "4                673.851300                    3.033819  "
      ]
     },
     "metadata": {},
     "output_type": "display_data"
    }
   ],
   "source": [
    "# Assuming 'df' is your DataFrame\n",
    "\n",
    "with pd.option_context('display.max_columns', None):\n",
    "    display(TRYgroup.head())"
   ]
  },
  {
   "cell_type": "code",
   "execution_count": 35,
   "id": "7dd860df",
   "metadata": {},
   "outputs": [
    {
     "data": {
      "text/plain": [
       "MultiIndex([(                                 'Species',     ''),\n",
       "            (             'Stem specific density (SSD)', 'mean'),\n",
       "            (                      'Root rooting depth', 'mean'),\n",
       "            (                'Specific Leaf Area (SLA)', 'mean'),\n",
       "            (                'Leaf carbon (C) per mass', 'mean'),\n",
       "            (              'Leaf nitrogen (N) per mass', 'mean'),\n",
       "            (            'Leaf phosphorus (P) per mass', 'mean'),\n",
       "            (                            'Plant Height', 'mean'),\n",
       "            (                           'Seed diameter', 'mean'),\n",
       "            (                               'Seed mass', 'mean'),\n",
       "            (                             'Seed length', 'mean'),\n",
       "            (                          'Leaf thickness', 'mean'),\n",
       "            ('Leaf dry mass per leaf fresh mass (LDMC)', 'mean'),\n",
       "            (              'Leaf nitrogen (N) per area', 'mean'),\n",
       "            (                  'Leaf dry mass per leaf', 'mean'),\n",
       "            (                           'Leaf delta15N', 'mean'),\n",
       "            (                   'Seed germination rate', 'mean'),\n",
       "            (                     'Seeds per rep. unit', 'mean'),\n",
       "            (                             'Leaf length', 'mean'),\n",
       "            (                              'Leaf width', 'mean'),\n",
       "            (        'Leaf carbon/nitrogen (C/N) ratio', 'mean'),\n",
       "            (                         'Leaf fresh mass', 'mean'),\n",
       "            (                    'Stem conduit density', 'mean'),\n",
       "            (                       'chromosome number', 'mean'),\n",
       "            (                 'chromosome cDNA content', 'mean'),\n",
       "            (                   'Dispersal unit length', 'mean'),\n",
       "            (                   'Stem conduit diameter', 'mean'),\n",
       "            (                  'Conduit element length', 'mean'),\n",
       "            (                       'Wood fibre length', 'mean'),\n",
       "            (           'Root length per root dry mass', 'mean'),\n",
       "            (     'Leaf Area (leaflet, petiole undef.)', 'mean'),\n",
       "            (        'Leaf Area (leaf, petiole undef.)', 'mean'),\n",
       "            (               'Leaf Area (all undefined)', 'mean'),\n",
       "            (             'Leaf Water content per mass', 'mean')],\n",
       "           )"
      ]
     },
     "execution_count": 35,
     "metadata": {},
     "output_type": "execute_result"
    }
   ],
   "source": [
    "TRYgroup.columns"
   ]
  },
  {
   "cell_type": "markdown",
   "id": "22f63434",
   "metadata": {},
   "source": [
    "## Safe data to disk"
   ]
  },
  {
   "cell_type": "code",
   "execution_count": 36,
   "id": "2c336eca",
   "metadata": {},
   "outputs": [],
   "source": [
    "TRYgroup.to_csv(\"exports/TRY_summary_stats.csv\", index=False)"
   ]
  },
  {
   "cell_type": "code",
   "execution_count": null,
   "id": "8a4ae002",
   "metadata": {},
   "outputs": [],
   "source": []
  }
 ],
 "metadata": {
  "kernelspec": {
   "display_name": "Python 3 (ipykernel)",
   "language": "python",
   "name": "python3"
  },
  "language_info": {
   "codemirror_mode": {
    "name": "ipython",
    "version": 3
   },
   "file_extension": ".py",
   "mimetype": "text/x-python",
   "name": "python",
   "nbconvert_exporter": "python",
   "pygments_lexer": "ipython3",
   "version": "3.10.13"
  }
 },
 "nbformat": 4,
 "nbformat_minor": 5
}
